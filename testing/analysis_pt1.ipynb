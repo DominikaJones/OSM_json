{
 "cells": [
  {
   "cell_type": "code",
   "execution_count": 1,
   "metadata": {},
   "outputs": [],
   "source": [
    "import pandas as pd\n",
    "import numpy as np\n",
    "import sys\n",
    "import warnings\n",
    "warnings.filterwarnings('ignore')\n",
    "import time\n",
    "from datetime import datetime, timedelta\n",
    "from collections import defaultdict\n",
    "from operator import itemgetter\n",
    "import joblib\n",
    "from joblib import dump, load\n",
    "import json\n",
    "import os\n",
    "import pickle\n",
    "import statistics as stats\n",
    "\n",
    "import seaborn as sns\n",
    "sns.set_style('darkgrid')\n",
    "from sklearn.cluster import KMeans\n",
    "from sklearn import metrics\n",
    "from scipy.spatial.distance import cdist\n",
    "%matplotlib inline\n",
    "import matplotlib.pyplot as plt\n",
    "import pyodbc\n",
    "import warnings\n",
    "warnings.filterwarnings('ignore')\n",
    "\n",
    "#data preprocessing and model:\n",
    "from sklearn.preprocessing import OneHotEncoder, StandardScaler\n",
    "from sklearn.ensemble import RandomForestClassifier\n",
    "from sklearn import metrics"
   ]
  },
  {
   "cell_type": "code",
   "execution_count": 2,
   "metadata": {},
   "outputs": [],
   "source": [
    "conn = cursor = None\n",
    "try:\n",
    "    conn = pyodbc.connect('DRIVER={SQL Server Native Client 11.0};'\n",
    "                'Server=eds-businessanalytics-sql01.database.windows.net;'\n",
    "                'Database=AIP;'\n",
    "                'UID=BAjones;'\n",
    "                'PWD=5Laugh@funnymonkey!;')\n",
    "\n",
    "    cursor = conn.cursor()  \n",
    "\n",
    "    query = '''\n",
    "            SELECT ci.*\n",
    "               ,im.[System_Suspend_Flag] as 'system_suspend_flag'\n",
    "               ,im.[Private_Brand_Flag] as 'private_brand_flag'\n",
    "               ,im.[Dispenser_Flag] as 'dispenser_flag'\n",
    "               ,im.[Proprietary_Flag] as 'proprietary_flag'\n",
    "               ,im.[SuperFamily] as 'super_family'\n",
    "               ,im.[FamilyGroup] as 'family_group'\n",
    "               ,isnull(cri.[bin_revenue_product], 'NaN') as 'bin_rev_item'\n",
    "\n",
    "            FROM [dbo].[CustomerItemStaging_202208] ci\n",
    "            left join [dbo].[item_master_202208] im on im.[item_key] = ci.[item_key]\n",
    "            left join [dbo].[classification_revenue_item_202208] cri on cri.[item_key] = ci.[Item_Key]\n",
    "            '''\n",
    "    cust_item_staging = pd.read_sql(query, conn)\n",
    "finally:\n",
    "    try: cursor.close()\n",
    "    except: pass\n",
    "    try: conn.close()\n",
    "    except: pass"
   ]
  },
  {
   "cell_type": "code",
   "execution_count": 3,
   "metadata": {},
   "outputs": [],
   "source": [
    "## Customer Master Table AIP\n",
    "\n",
    "conn = cursor = None\n",
    "try:\n",
    "    conn = pyodbc.connect('DRIVER={SQL Server Native Client 11.0};'\n",
    "                'Server=eds-businessanalytics-sql01.database.windows.net;'\n",
    "                'Database=AIP;'\n",
    "                'UID=BAjones;'\n",
    "                'PWD=5Laugh@funnymonkey!;')\n",
    "\n",
    "    cursor = conn.cursor()  \n",
    "    \n",
    "    query = '''\n",
    "            SELECT cm.[Customer_Key] as 'customer_key'\n",
    "                  ,cm.[Region] as 'region'\n",
    "                  ,cm.[Primary_Sales_Rep_Key] as 'sales_rep_key'\n",
    "                  ,isnull(cm.[price_type], 'M') as 'price_type'\n",
    "                  ,isnull(cm.[suspend_flag],'N') as 'suspend_flag'\n",
    "                  ,isnull(cm.[distributor_negotiated_cost_flag], 'Y') as 'distributor_negotiated_cost_flag'\n",
    "                  ,cm.[Integrated_Market_Vertical] as 'int_market_vert'\n",
    "                  ,isnull(crc.[bin_revenue_customer], 'NaN') as 'bin_rev_cust'\n",
    "            FROM [dbo].[customer_master_202208] cm\n",
    "            left join [archive].[classification_revenue_customer_202208] crc on crc.[customer_key] = cm.[customer_key]\n",
    "            '''\n",
    "    cust_mast = pd.read_sql(query, conn)\n",
    "finally:\n",
    "    try: cursor.close()\n",
    "    except: pass\n",
    "    try: conn.close()\n",
    "    except: pass"
   ]
  },
  {
   "cell_type": "code",
   "execution_count": 4,
   "metadata": {},
   "outputs": [],
   "source": [
    "result = pd.read_csv('prioritized_data_202208.csv')"
   ]
  },
  {
   "cell_type": "code",
   "execution_count": 5,
   "metadata": {},
   "outputs": [],
   "source": [
    "staging = pd.merge(cust_item_staging, cust_mast, on=['customer_key'],how='left')"
   ]
  },
  {
   "cell_type": "code",
   "execution_count": 6,
   "metadata": {},
   "outputs": [],
   "source": [
    "staging['CustItem'] = staging['customer_key'].astype(str) + staging['item_key'].astype(str)"
   ]
  },
  {
   "cell_type": "code",
   "execution_count": 7,
   "metadata": {},
   "outputs": [],
   "source": [
    "result['CustItem'] = result['CustItem'].astype(str)"
   ]
  },
  {
   "cell_type": "code",
   "execution_count": 8,
   "metadata": {},
   "outputs": [],
   "source": [
    "def preprocess_data(df):\n",
    "\n",
    "    df['customer_key'] = df['customer_key'].astype(str)\n",
    "    df['item_key'] = df['item_key'].astype(str)\n",
    "    # df['item_key'] = df['item_key'].str[:-2]\n",
    "\n",
    "    df['sales_rep_key'] = df['sales_rep_key'].astype(str)\n",
    "    #df['sales_rep_key'] = df['sales_rep_key'].str[:-2]\n",
    "\n",
    "    df['identity_key'] = df['customer_key'].astype(str) + '/' + df['item_key'].astype(str) + '/' + df['sales_rep_key'].astype(str)\n",
    "    df['cust_item_key'] = df['customer_key'].astype(str) + '/' + df['item_key'].astype(str)\n",
    "\n",
    "    df['price_type'] = df['price_type'].replace(np.nan, 'M')\n",
    "    df['suspend_flag'] = df['suspend_flag'].replace(np.nan, 'N')\n",
    "    df['system_suspend_Flag'] = df['system_suspend_flag'].replace(np.nan, 'N')\n",
    "\n",
    "    df = df[df['price_type']=='M']\n",
    "    df = df[df['suspend_flag']=='N']\n",
    "    df = df[df['system_suspend_flag']=='N']\n",
    "    df = df[df['DateOfLastPresentation'].isnull()]\n",
    "\n",
    "    \n",
    "    df = df[df['stretch_margin_percentage'] < 0.85] \n",
    "\n",
    "    df['LastPriceChange'] = df['LastPriceChange'].astype(str)\n",
    "    df['LastPriceChange'] = df['LastPriceChange'].str[0:8]\n",
    "    df['LastPriceChange'] = pd.to_datetime(df['LastPriceChange'])\n",
    "    df['DateOfLastPresentation'] = pd.to_datetime(df['DateOfLastPresentation'])\n",
    " \n",
    "    now = datetime.now() # current date and time\n",
    "    df['TimeDelta'] = now.strftime(\"%Y-%m-%d\")\n",
    "    df['TimeDelta'] = pd.to_datetime(df['TimeDelta'])\n",
    "\n",
    "\n",
    "    df['LastPriceChange_delta'] = df['TimeDelta'] - df['LastPriceChange']\n",
    "    df['DateOfLastPresentation_delta'] = df['TimeDelta'] - df['DateOfLastPresentation']\n",
    "  \n",
    "    df['DateOfLastPresentation_delta'] = df['DateOfLastPresentation_delta'].fillna(pd.Timedelta('365 days')) #change to 365\n",
    "    df['LastPriceChange_delta'] = df['LastPriceChange_delta'].fillna(pd.Timedelta('365 days'))\n",
    "\n",
    "    df['DateOfLastPresentation_delta'] = df['DateOfLastPresentation_delta'].dt.days.astype('int16')\n",
    "    df['LastPriceChange_delta'] = df['LastPriceChange_delta'].dt.days.astype('int16')\n",
    "\n",
    "    df['price_change'] = np.where(df['LastPriceChange_delta']==365, 'yes', 'no')\n",
    "    #df = df[df['DateOfLastPresentation_delta'] > 120] \n",
    "\n",
    "\n",
    "    conditions_for_price_change = [\n",
    "     (df['LastPriceChange_delta'] > 0) & (df['LastPriceChange_delta'] <= 30),\n",
    "     (df['LastPriceChange_delta'] > 30) & (df['LastPriceChange_delta'] <=60),\n",
    "     (df['LastPriceChange_delta'] > 60) & (df['LastPriceChange_delta'] <=90),\n",
    "     (df['LastPriceChange_delta'] > 90) & (df['LastPriceChange_delta'] <=120),\n",
    "     (df['LastPriceChange_delta'] > 150) & (df['LastPriceChange_delta'] <=180),\n",
    "     (df['LastPriceChange_delta'] > 210) & (df['LastPriceChange_delta'] <=240),\n",
    "     (df['LastPriceChange_delta'] > 240) & (df['LastPriceChange_delta'] <=270),\n",
    "     (df['LastPriceChange_delta'] > 270) & (df['LastPriceChange_delta'] <=300),\n",
    "     (df['LastPriceChange_delta'] > 300) & (df['LastPriceChange_delta'] <=330),\n",
    "     (df['LastPriceChange_delta'] > 330) & (df['LastPriceChange_delta'] <=360),\n",
    "     (df['LastPriceChange_delta'] > 360) \n",
    "    ]\n",
    "    values_for_price_change = [0, 5, 10, 15, 20, 25, 30, 35, 40, 45, 50]\n",
    "\n",
    "    conditions_for_last_presentation = [\n",
    "     (df['DateOfLastPresentation_delta'] <= 0),\n",
    "     (df['DateOfLastPresentation_delta'] > 0) & (df['DateOfLastPresentation_delta'] <= 30),\n",
    "     (df['DateOfLastPresentation_delta'] > 30) & (df['DateOfLastPresentation_delta'] <=60),\n",
    "     (df['DateOfLastPresentation_delta'] > 60) & (df['DateOfLastPresentation_delta'] <=90),\n",
    "     (df['DateOfLastPresentation_delta'] > 90) & (df['DateOfLastPresentation_delta'] <=120),\n",
    "     (df['DateOfLastPresentation_delta'] > 150) & (df['DateOfLastPresentation_delta'] <=180),\n",
    "     (df['DateOfLastPresentation_delta'] > 210) & (df['DateOfLastPresentation_delta'] <=240),\n",
    "     (df['DateOfLastPresentation_delta'] > 240) & (df['DateOfLastPresentation_delta'] <=270),\n",
    "     (df['DateOfLastPresentation_delta'] > 270) & (df['DateOfLastPresentation_delta'] <=300),\n",
    "     (df['DateOfLastPresentation_delta'] > 300) & (df['DateOfLastPresentation_delta'] <=330),\n",
    "     (df['DateOfLastPresentation_delta'] > 330) & (df['DateOfLastPresentation_delta'] <=360),\n",
    "     (df['DateOfLastPresentation_delta'] > 360) \n",
    "    ]   \n",
    "    values_for_last_presentation = [50, 0, 5, 10, 15, 20, 25, 30, 35, 40, 45, 50]\n",
    "\n",
    "\n",
    "    df['LastPriceChange_points'] = np.select(conditions_for_price_change, values_for_price_change)\n",
    "    df['DateOfLastPresentation_points'] = np.select(conditions_for_last_presentation, values_for_last_presentation)\n",
    "\n",
    "    df['recency_points'] = df['DateOfLastPresentation_points'] + df['LastPriceChange_points'] \n",
    "\n",
    "\n",
    "    df['floor_price'] = df['CurrentCost'] / (1 - df['floor_margin_percentage'])\n",
    "    df['target_price'] = df['CurrentCost'] / (1 - df['target_margin_percentage'])\n",
    "    df['stretch_price'] = df['CurrentCost'] / (1 - df['stretch_margin_percentage'])\n",
    "\n",
    "    df['floor_diff'] = df['floor_price'] - df['CurrentPrice']  \n",
    "    df['target_diff'] = df['target_price'] - df['CurrentPrice'] \n",
    "    df['stretch_diff'] = df['stretch_price']- df['CurrentPrice'] \n",
    "\n",
    "    diff_cols = ['floor_diff','target_diff','stretch_diff']\n",
    "    df[diff_cols] = df[diff_cols].replace(np.nan,0)\n",
    "\n",
    "    df['opportunity_diff'] = df['floor_diff'] + df['target_diff'] + df['stretch_diff']\n",
    "\n",
    "\n",
    "    df = df.drop_duplicates()\n",
    "\n",
    "    return df"
   ]
  },
  {
   "cell_type": "code",
   "execution_count": 9,
   "metadata": {},
   "outputs": [],
   "source": [
    "staging1 = preprocess_data(staging)"
   ]
  },
  {
   "cell_type": "code",
   "execution_count": 10,
   "metadata": {},
   "outputs": [
    {
     "data": {
      "text/plain": [
       "(602408, 44)"
      ]
     },
     "execution_count": 10,
     "metadata": {},
     "output_type": "execute_result"
    }
   ],
   "source": [
    "staging1.shape"
   ]
  },
  {
   "cell_type": "code",
   "execution_count": 11,
   "metadata": {},
   "outputs": [
    {
     "data": {
      "text/plain": [
       "(515950, 70)"
      ]
     },
     "execution_count": 11,
     "metadata": {},
     "output_type": "execute_result"
    }
   ],
   "source": [
    "result.shape"
   ]
  },
  {
   "cell_type": "code",
   "execution_count": 12,
   "metadata": {},
   "outputs": [],
   "source": [
    "def data_engineering(df):\n",
    "    df = df[['identity_key','_12mo_Rev','lift_overall','floor_margin_percentage','target_margin_percentage','stretch_margin_percentage',\n",
    "             'private_brand_flag','dispenser_flag','proprietary_flag','super_family','family_group','bin_rev_item','region',\n",
    "             'distributor_negotiated_cost_flag','int_market_vert','bin_rev_cust','price_change']]\n",
    "    scaler = StandardScaler()\n",
    "    num_cols = ['_12mo_Rev','lift_overall','floor_margin_percentage','target_margin_percentage','stretch_margin_percentage']\n",
    "    df[num_cols] = scaler.fit_transform(df[num_cols])\n",
    "    encoder = OneHotEncoder(sparse=False)\n",
    "    cat_cols = ['private_brand_flag','dispenser_flag','proprietary_flag','super_family','family_group','bin_rev_item','region',\n",
    "                'distributor_negotiated_cost_flag','int_market_vert','bin_rev_cust','price_change']\n",
    "    df[cat_cols] = df[cat_cols].replace(np.nan, 'Unknown')\n",
    "\n",
    "    df_encoded = pd.DataFrame(encoder.fit_transform(df[cat_cols]))\n",
    "    df_encoded.columns = encoder.get_feature_names(cat_cols)\n",
    "\n",
    "    df = df.drop(cat_cols ,axis=1)\n",
    "    df = pd.concat([df_encoded, df], axis=1)\n",
    "\n",
    "    df.dropna(inplace=True)\n",
    "\n",
    "    return df "
   ]
  },
  {
   "cell_type": "code",
   "execution_count": 13,
   "metadata": {},
   "outputs": [],
   "source": [
    "data_engineered = data_engineering(staging1)"
   ]
  },
  {
   "cell_type": "code",
   "execution_count": 14,
   "metadata": {},
   "outputs": [],
   "source": [
    "def rf_model_predict(df):\n",
    "    path = '../PD Function/classification/'\n",
    "    model = load(path+'Price_Optimizer_RandomForestGrid_Classification.joblib')   \n",
    "    #X_train = pd.read_csv(path+'x_train.csv')   \n",
    "    identity_key = df['identity_key']\n",
    "    df = df.drop(columns = ['identity_key'])\n",
    "\n",
    "    predictions = pd.DataFrame()\n",
    "    y_pred = model.predict(df)\n",
    "    predictions = pd.concat([identity_key, df], axis = 1).dropna()\n",
    "    predictions['prediction'] = y_pred\n",
    "    return predictions"
   ]
  },
  {
   "cell_type": "code",
   "execution_count": 15,
   "metadata": {},
   "outputs": [],
   "source": [
    "data_preds = rf_model_predict(data_engineered)"
   ]
  },
  {
   "cell_type": "code",
   "execution_count": 16,
   "metadata": {},
   "outputs": [],
   "source": [
    "preds_split = data_preds['identity_key'].str.split('/', n=2, expand=True)\n",
    "data_preds['customer_key'] = preds_split[0]\n",
    "data_preds['item_key'] = preds_split[1]\n",
    "data_preds['sales_rep_key'] = preds_split[2]\n",
    "preds = data_preds[['identity_key','prediction']]\n",
    "staging2 = pd.merge(staging1, preds, on=['identity_key'],how='left')  \n",
    "\n",
    "staging2['predictions_points'] = np.where(staging2['prediction']== 1, 100, 0)"
   ]
  },
  {
   "cell_type": "code",
   "execution_count": 17,
   "metadata": {},
   "outputs": [],
   "source": [
    "staging2['12mo_rev_rank'] =staging2['_12mo_Rev'].rank(method='min')\n",
    "staging2['3mo_proj_demand_rank'] = staging2['_3mo_Projected_Demand'].rank(method='min')\n",
    "staging2['opportunity_rank'] = staging2['opportunity_diff'].rank(method='min')\n",
    "staging2['lift_overall_rank'] = staging2['lift_overall'].rank(method='min')"
   ]
  },
  {
   "cell_type": "code",
   "execution_count": 18,
   "metadata": {},
   "outputs": [
    {
     "data": {
      "text/plain": [
       "(602408, 50)"
      ]
     },
     "execution_count": 18,
     "metadata": {},
     "output_type": "execute_result"
    }
   ],
   "source": [
    "staging2.shape"
   ]
  },
  {
   "cell_type": "code",
   "execution_count": 19,
   "metadata": {},
   "outputs": [],
   "source": [
    "sales = pd.read_csv('sales_clean_06.csv')"
   ]
  },
  {
   "cell_type": "code",
   "execution_count": 20,
   "metadata": {},
   "outputs": [],
   "source": [
    "sales['Date'] = pd.to_datetime(sales['Date'])"
   ]
  },
  {
   "cell_type": "code",
   "execution_count": 21,
   "metadata": {},
   "outputs": [],
   "source": [
    "sales['CustItem'] = sales['customer_key'].astype(str) + sales['item_key'].astype(str)\n",
    "sales = sales[['CustItem','Shipped Quantity','Sales Amount','Date']]"
   ]
  },
  {
   "cell_type": "code",
   "execution_count": 22,
   "metadata": {},
   "outputs": [],
   "source": [
    "def order_cluster(cluster_field_name, target_field_name,df,ascending):\n",
    "    new_cluster_field_name = 'new_' + cluster_field_name\n",
    "    df_new = df.groupby(cluster_field_name)[target_field_name].mean().reset_index()\n",
    "    df_new = df_new.sort_values(by=target_field_name,ascending=ascending).reset_index(drop=True)\n",
    "    df_new['index'] = df_new.index\n",
    "    df_final = pd.merge(df,df_new[[cluster_field_name,'index']], on=cluster_field_name)\n",
    "    df_final = df_final.drop([cluster_field_name],axis=1)\n",
    "    df_final = df_final.rename(columns={\"index\":cluster_field_name})\n",
    "    return df_final"
   ]
  },
  {
   "cell_type": "code",
   "execution_count": 27,
   "metadata": {},
   "outputs": [],
   "source": [
    "cust_item = pd.DataFrame(staging2['CustItem'].unique())\n",
    "cust_item.columns = ['CustItem']"
   ]
  },
  {
   "cell_type": "code",
   "execution_count": 28,
   "metadata": {},
   "outputs": [
    {
     "data": {
      "text/plain": [
       "(602408, 1)"
      ]
     },
     "execution_count": 28,
     "metadata": {},
     "output_type": "execute_result"
    }
   ],
   "source": [
    "cust_item.shape"
   ]
  },
  {
   "cell_type": "code",
   "execution_count": 34,
   "metadata": {},
   "outputs": [],
   "source": [
    "cust_item = pd.DataFrame(sales['CustItem'].unique())\n",
    "cust_item.columns = ['CustItem']"
   ]
  },
  {
   "cell_type": "code",
   "execution_count": 35,
   "metadata": {},
   "outputs": [
    {
     "data": {
      "text/plain": [
       "(646826, 1)"
      ]
     },
     "execution_count": 35,
     "metadata": {},
     "output_type": "execute_result"
    }
   ],
   "source": [
    "cust_item2.shape"
   ]
  },
  {
   "cell_type": "code",
   "execution_count": 36,
   "metadata": {},
   "outputs": [],
   "source": [
    "max_purchase = sales.groupby('CustItem').Date.max().reset_index()\n",
    "max_purchase.columns = ['CustItem','MaxPurchaseDate']\n",
    "max_purchase['Recency'] = (max_purchase['MaxPurchaseDate'].max() - max_purchase['MaxPurchaseDate']).dt.days\n",
    "cust_item = pd.merge(cust_item, max_purchase[['CustItem','Recency']], on='CustItem')\n",
    "kmeans = KMeans(n_clusters=4)\n",
    "kmeans.fit(cust_item[['Recency']])\n",
    "cust_item['RecencyCluster'] = kmeans.predict(cust_item[['Recency']])\n",
    "cust_item = order_cluster('RecencyCluster', 'Recency',cust_item,False)"
   ]
  },
  {
   "cell_type": "code",
   "execution_count": 37,
   "metadata": {},
   "outputs": [
    {
     "data": {
      "text/plain": [
       "(646826, 3)"
      ]
     },
     "execution_count": 37,
     "metadata": {},
     "output_type": "execute_result"
    }
   ],
   "source": [
    "cust_item.shape"
   ]
  },
  {
   "cell_type": "code",
   "execution_count": 38,
   "metadata": {},
   "outputs": [],
   "source": [
    "frequency = sales.groupby('CustItem').Date.count().reset_index()\n",
    "frequency.columns = ['CustItem','Frequency']\n",
    "cust_item = pd.merge(cust_item, frequency, on='CustItem')\n",
    "kmeans = KMeans(n_clusters=5)\n",
    "kmeans.fit(cust_item[['Frequency']])\n",
    "cust_item['FrequencyCluster'] = kmeans.predict(cust_item[['Frequency']])\n",
    "cust_item = order_cluster('FrequencyCluster', 'Recency',cust_item,False)"
   ]
  },
  {
   "cell_type": "code",
   "execution_count": 39,
   "metadata": {},
   "outputs": [
    {
     "data": {
      "text/plain": [
       "(646826, 5)"
      ]
     },
     "execution_count": 39,
     "metadata": {},
     "output_type": "execute_result"
    }
   ],
   "source": [
    "cust_item.shape"
   ]
  },
  {
   "cell_type": "code",
   "execution_count": 40,
   "metadata": {},
   "outputs": [],
   "source": [
    "sales['Revenue'] = sales['Sales Amount']\n",
    "revenue = sales.groupby('CustItem')['Revenue'].sum().reset_index()\n",
    "cust_item = pd.merge(cust_item, revenue, on='CustItem')\n",
    "#apply clustering\n",
    "kmeans = KMeans(n_clusters=4)\n",
    "kmeans.fit(cust_item[['Revenue']])\n",
    "cust_item['RevenueCluster'] = kmeans.predict(cust_item[['Revenue']])\n",
    "cust_item = order_cluster('RevenueCluster', 'Revenue',cust_item,True)"
   ]
  },
  {
   "cell_type": "code",
   "execution_count": 41,
   "metadata": {},
   "outputs": [
    {
     "data": {
      "text/plain": [
       "(646826, 7)"
      ]
     },
     "execution_count": 41,
     "metadata": {},
     "output_type": "execute_result"
    }
   ],
   "source": [
    "cust_item.shape"
   ]
  },
  {
   "cell_type": "code",
   "execution_count": 42,
   "metadata": {},
   "outputs": [],
   "source": [
    "sales['Density'] = sales['Shipped Quantity']\n",
    "density = sales.groupby('CustItem')['Density'].sum().reset_index()\n",
    "cust_item = pd.merge(cust_item, density, on='CustItem')\n",
    "kmeans = KMeans(n_clusters=5)\n",
    "kmeans.fit(cust_item[['Density']])\n",
    "cust_item['DensityCluster'] = kmeans.predict(cust_item[['Density']])\n",
    "cust_item = order_cluster('DensityCluster', 'Density',cust_item,True)"
   ]
  },
  {
   "cell_type": "code",
   "execution_count": 43,
   "metadata": {},
   "outputs": [
    {
     "data": {
      "text/plain": [
       "(646826, 9)"
      ]
     },
     "execution_count": 43,
     "metadata": {},
     "output_type": "execute_result"
    }
   ],
   "source": [
    "cust_item.shape"
   ]
  },
  {
   "cell_type": "code",
   "execution_count": 44,
   "metadata": {},
   "outputs": [],
   "source": [
    "_12mo_rev_rank = staging2[['12mo_rev_rank','CustItem']]\n",
    "cust_item = pd.merge(cust_item, _12mo_rev_rank,on='CustItem',)\n",
    "kmeans = KMeans(n_clusters=5)\n",
    "kmeans.fit(cust_item[['12mo_rev_rank']])\n",
    "cust_item['12MonthCluster'] = kmeans.predict(cust_item[['12mo_rev_rank']])\n",
    "cust_item = order_cluster('12MonthCluster', '12mo_rev_rank',cust_item,True)"
   ]
  },
  {
   "cell_type": "code",
   "execution_count": 56,
   "metadata": {},
   "outputs": [
    {
     "data": {
      "text/plain": [
       "(602408, 2)"
      ]
     },
     "execution_count": 56,
     "metadata": {},
     "output_type": "execute_result"
    }
   ],
   "source": [
    "_12mo_rev_rank.shape"
   ]
  },
  {
   "cell_type": "code",
   "execution_count": 57,
   "metadata": {},
   "outputs": [
    {
     "data": {
      "text/plain": [
       "(515950, 11)"
      ]
     },
     "execution_count": 57,
     "metadata": {},
     "output_type": "execute_result"
    }
   ],
   "source": [
    "cust_item.shape"
   ]
  },
  {
   "cell_type": "code",
   "execution_count": 58,
   "metadata": {},
   "outputs": [],
   "source": [
    "_3mo_usage_rank = staging2[['3mo_proj_demand_rank','CustItem']]\n",
    "cust_item = pd.merge(cust_item, _3mo_usage_rank,on='CustItem')\n",
    "kmeans = KMeans(n_clusters=3)\n",
    "kmeans.fit(cust_item[['3mo_proj_demand_rank']])\n",
    "cust_item['3MonthUsageCluster'] = kmeans.predict(cust_item[['3mo_proj_demand_rank']])\n",
    "cust_item = order_cluster('3MonthUsageCluster', '3mo_proj_demand_rank',cust_item,True)"
   ]
  },
  {
   "cell_type": "code",
   "execution_count": 59,
   "metadata": {},
   "outputs": [
    {
     "data": {
      "text/plain": [
       "(515950, 13)"
      ]
     },
     "execution_count": 59,
     "metadata": {},
     "output_type": "execute_result"
    }
   ],
   "source": [
    "cust_item.shape"
   ]
  },
  {
   "cell_type": "code",
   "execution_count": 60,
   "metadata": {},
   "outputs": [],
   "source": [
    "opportunity_rank = staging2[['opportunity_rank','CustItem']]\n",
    "cust_item = pd.merge(cust_item, opportunity_rank,on='CustItem')\n",
    "kmeans = KMeans(n_clusters=4)\n",
    "kmeans.fit(cust_item[['opportunity_rank']])\n",
    "cust_item['OpportunityCluster'] = kmeans.predict(cust_item[['opportunity_rank']])\n",
    "cust_item = order_cluster('OpportunityCluster', 'opportunity_rank',cust_item,True)"
   ]
  },
  {
   "cell_type": "code",
   "execution_count": 61,
   "metadata": {},
   "outputs": [
    {
     "data": {
      "text/plain": [
       "(515950, 15)"
      ]
     },
     "execution_count": 61,
     "metadata": {},
     "output_type": "execute_result"
    }
   ],
   "source": [
    "cust_item.shape"
   ]
  },
  {
   "cell_type": "code",
   "execution_count": 62,
   "metadata": {},
   "outputs": [],
   "source": [
    "lift_overall_rank = staging2[['lift_overall_rank','CustItem']]\n",
    "cust_item = pd.merge(cust_item, lift_overall_rank,on='CustItem')\n",
    "kmeans = KMeans(n_clusters=5)\n",
    "kmeans.fit(cust_item[['lift_overall_rank']])\n",
    "cust_item['LiftCluster'] = kmeans.predict(cust_item[['lift_overall_rank']])\n",
    "cust_item = order_cluster('LiftCluster', 'lift_overall_rank',cust_item,True)"
   ]
  },
  {
   "cell_type": "code",
   "execution_count": 63,
   "metadata": {},
   "outputs": [
    {
     "data": {
      "text/plain": [
       "(515950, 17)"
      ]
     },
     "execution_count": 63,
     "metadata": {},
     "output_type": "execute_result"
    }
   ],
   "source": [
    "cust_item.shape"
   ]
  },
  {
   "cell_type": "code",
   "execution_count": 64,
   "metadata": {},
   "outputs": [
    {
     "data": {
      "text/html": [
       "<div>\n",
       "<style scoped>\n",
       "    .dataframe tbody tr th:only-of-type {\n",
       "        vertical-align: middle;\n",
       "    }\n",
       "\n",
       "    .dataframe tbody tr th {\n",
       "        vertical-align: top;\n",
       "    }\n",
       "\n",
       "    .dataframe thead th {\n",
       "        text-align: right;\n",
       "    }\n",
       "</style>\n",
       "<table border=\"1\" class=\"dataframe\">\n",
       "  <thead>\n",
       "    <tr style=\"text-align: right;\">\n",
       "      <th></th>\n",
       "      <th>CustItem</th>\n",
       "      <th>Recency</th>\n",
       "      <th>RecencyCluster</th>\n",
       "      <th>Frequency</th>\n",
       "      <th>FrequencyCluster</th>\n",
       "      <th>Revenue</th>\n",
       "      <th>RevenueCluster</th>\n",
       "      <th>Density</th>\n",
       "      <th>DensityCluster</th>\n",
       "      <th>12mo_rev_rank</th>\n",
       "      <th>12MonthCluster</th>\n",
       "      <th>3mo_proj_demand_rank</th>\n",
       "      <th>3MonthUsageCluster</th>\n",
       "      <th>opportunity_rank</th>\n",
       "      <th>OpportunityCluster</th>\n",
       "      <th>lift_overall_rank</th>\n",
       "      <th>LiftCluster</th>\n",
       "    </tr>\n",
       "  </thead>\n",
       "  <tbody>\n",
       "    <tr>\n",
       "      <th>0</th>\n",
       "      <td>407185214973</td>\n",
       "      <td>149</td>\n",
       "      <td>2</td>\n",
       "      <td>1</td>\n",
       "      <td>0</td>\n",
       "      <td>40.92</td>\n",
       "      <td>0</td>\n",
       "      <td>1.0</td>\n",
       "      <td>0</td>\n",
       "      <td>112620.0</td>\n",
       "      <td>0</td>\n",
       "      <td>155.0</td>\n",
       "      <td>0</td>\n",
       "      <td>569405.0</td>\n",
       "      <td>3</td>\n",
       "      <td>147924.0</td>\n",
       "      <td>1</td>\n",
       "    </tr>\n",
       "    <tr>\n",
       "      <th>1</th>\n",
       "      <td>407779278088</td>\n",
       "      <td>189</td>\n",
       "      <td>2</td>\n",
       "      <td>1</td>\n",
       "      <td>0</td>\n",
       "      <td>39.56</td>\n",
       "      <td>0</td>\n",
       "      <td>4.0</td>\n",
       "      <td>0</td>\n",
       "      <td>108505.0</td>\n",
       "      <td>0</td>\n",
       "      <td>155.0</td>\n",
       "      <td>0</td>\n",
       "      <td>464574.0</td>\n",
       "      <td>3</td>\n",
       "      <td>211904.0</td>\n",
       "      <td>1</td>\n",
       "    </tr>\n",
       "    <tr>\n",
       "      <th>2</th>\n",
       "      <td>407780218317</td>\n",
       "      <td>121</td>\n",
       "      <td>2</td>\n",
       "      <td>2</td>\n",
       "      <td>0</td>\n",
       "      <td>71.45</td>\n",
       "      <td>0</td>\n",
       "      <td>2.0</td>\n",
       "      <td>0</td>\n",
       "      <td>100776.0</td>\n",
       "      <td>0</td>\n",
       "      <td>155.0</td>\n",
       "      <td>0</td>\n",
       "      <td>494576.0</td>\n",
       "      <td>3</td>\n",
       "      <td>162152.0</td>\n",
       "      <td>1</td>\n",
       "    </tr>\n",
       "    <tr>\n",
       "      <th>3</th>\n",
       "      <td>408360223893</td>\n",
       "      <td>148</td>\n",
       "      <td>2</td>\n",
       "      <td>2</td>\n",
       "      <td>0</td>\n",
       "      <td>57.46</td>\n",
       "      <td>0</td>\n",
       "      <td>2.0</td>\n",
       "      <td>0</td>\n",
       "      <td>76171.0</td>\n",
       "      <td>0</td>\n",
       "      <td>155.0</td>\n",
       "      <td>0</td>\n",
       "      <td>584628.0</td>\n",
       "      <td>3</td>\n",
       "      <td>191327.0</td>\n",
       "      <td>1</td>\n",
       "    </tr>\n",
       "    <tr>\n",
       "      <th>4</th>\n",
       "      <td>4084283335823</td>\n",
       "      <td>199</td>\n",
       "      <td>2</td>\n",
       "      <td>1</td>\n",
       "      <td>0</td>\n",
       "      <td>16.25</td>\n",
       "      <td>0</td>\n",
       "      <td>1.0</td>\n",
       "      <td>0</td>\n",
       "      <td>39331.0</td>\n",
       "      <td>0</td>\n",
       "      <td>155.0</td>\n",
       "      <td>0</td>\n",
       "      <td>559944.0</td>\n",
       "      <td>3</td>\n",
       "      <td>182556.0</td>\n",
       "      <td>1</td>\n",
       "    </tr>\n",
       "  </tbody>\n",
       "</table>\n",
       "</div>"
      ],
      "text/plain": [
       "        CustItem  Recency  RecencyCluster  Frequency  FrequencyCluster  \\\n",
       "0   407185214973      149               2          1                 0   \n",
       "1   407779278088      189               2          1                 0   \n",
       "2   407780218317      121               2          2                 0   \n",
       "3   408360223893      148               2          2                 0   \n",
       "4  4084283335823      199               2          1                 0   \n",
       "\n",
       "   Revenue  RevenueCluster  Density  DensityCluster  12mo_rev_rank  \\\n",
       "0    40.92               0      1.0               0       112620.0   \n",
       "1    39.56               0      4.0               0       108505.0   \n",
       "2    71.45               0      2.0               0       100776.0   \n",
       "3    57.46               0      2.0               0        76171.0   \n",
       "4    16.25               0      1.0               0        39331.0   \n",
       "\n",
       "   12MonthCluster  3mo_proj_demand_rank  3MonthUsageCluster  opportunity_rank  \\\n",
       "0               0                 155.0                   0          569405.0   \n",
       "1               0                 155.0                   0          464574.0   \n",
       "2               0                 155.0                   0          494576.0   \n",
       "3               0                 155.0                   0          584628.0   \n",
       "4               0                 155.0                   0          559944.0   \n",
       "\n",
       "   OpportunityCluster  lift_overall_rank  LiftCluster  \n",
       "0                   3           147924.0            1  \n",
       "1                   3           211904.0            1  \n",
       "2                   3           162152.0            1  \n",
       "3                   3           191327.0            1  \n",
       "4                   3           182556.0            1  "
      ]
     },
     "execution_count": 64,
     "metadata": {},
     "output_type": "execute_result"
    }
   ],
   "source": [
    "cust_item.head()"
   ]
  },
  {
   "cell_type": "code",
   "execution_count": 65,
   "metadata": {},
   "outputs": [],
   "source": [
    "staging3 = pd.merge(cust_item, staging2, on=['CustItem'],how='left')"
   ]
  },
  {
   "cell_type": "code",
   "execution_count": 66,
   "metadata": {},
   "outputs": [],
   "source": [
    "staging3['OverallScore'] = staging3['RecencyCluster'] + staging3['FrequencyCluster'] + staging3['RevenueCluster'] + staging3['DensityCluster'] + staging3['12MonthCluster'] + staging3['3MonthUsageCluster'] + staging3['LiftCluster'] + staging3['OpportunityCluster']\n",
    "staging3.rename(columns={'OverallCluster':'OverallScore'},inplace=True)\n",
    "staging3['OverallClusterPoints'] = staging3['OverallScore'] * 100\n",
    "staging3['PriorityPoints'] = staging3['recency_points'] + staging3['OverallClusterPoints'] + staging3['predictions_points']\n",
    "staging3['priority_determination'] = staging3['PriorityPoints']\n",
    "staging3['priority_determination'] = (staging3['priority_determination']-staging3['priority_determination'].min())/(staging3['priority_determination'].max()-staging3['priority_determination'].min())"
   ]
  },
  {
   "cell_type": "code",
   "execution_count": 67,
   "metadata": {},
   "outputs": [
    {
     "data": {
      "text/plain": [
       "(515950, 70)"
      ]
     },
     "execution_count": 67,
     "metadata": {},
     "output_type": "execute_result"
    }
   ],
   "source": [
    "staging3.shape"
   ]
  },
  {
   "cell_type": "code",
   "execution_count": 68,
   "metadata": {},
   "outputs": [
    {
     "data": {
      "text/plain": [
       "(515950, 70)"
      ]
     },
     "execution_count": 68,
     "metadata": {},
     "output_type": "execute_result"
    }
   ],
   "source": [
    "result.shape"
   ]
  },
  {
   "cell_type": "code",
   "execution_count": 69,
   "metadata": {},
   "outputs": [
    {
     "data": {
      "text/plain": [
       "(684557, 30)"
      ]
     },
     "execution_count": 69,
     "metadata": {},
     "output_type": "execute_result"
    }
   ],
   "source": [
    "staging.shape"
   ]
  },
  {
   "cell_type": "code",
   "execution_count": 70,
   "metadata": {},
   "outputs": [],
   "source": [
    "def preprocess_data_all(df):\n",
    "\n",
    "    df['customer_key'] = df['customer_key'].astype(str)\n",
    "    df['item_key'] = df['item_key'].astype(str)\n",
    "    # df['item_key'] = df['item_key'].str[:-2]\n",
    "\n",
    "    df['sales_rep_key'] = df['sales_rep_key'].astype(str)\n",
    "    #df['sales_rep_key'] = df['sales_rep_key'].str[:-2]\n",
    "\n",
    "    df['identity_key'] = df['customer_key'].astype(str) + '/' + df['item_key'].astype(str) + '/' + df['sales_rep_key'].astype(str)\n",
    "    df['cust_item_key'] = df['customer_key'].astype(str) + '/' + df['item_key'].astype(str)\n",
    "\n",
    "    df['price_type'] = df['price_type'].replace(np.nan, 'M')\n",
    "    df['suspend_flag'] = df['suspend_flag'].replace(np.nan, 'N')\n",
    "    df['system_suspend_Flag'] = df['system_suspend_flag'].replace(np.nan, 'N')\n",
    "\n",
    "    df['item_suspended'] = np.where(df['system_suspend_flag']=='N', 'PASS', 'FAIL')\n",
    "    df['cust_suspended'] = np.where(df['suspend_flag']=='N', 'PASS', 'FAIL')\n",
    "    df['presented'] = np.where(df['DateOfLastPresentation'].isnull(), 'PASS', 'FAIL')\n",
    "    df['margin_cut_off'] = np.where(df['stretch_margin_percentage'] < 0.85, 'PASS', 'FAIL')\n",
    "\n",
    "\n",
    "    df['floor_price'] = df['CurrentCost'] / (1 - df['floor_margin_percentage'])\n",
    "    df['target_price'] = df['CurrentCost'] / (1 - df['target_margin_percentage'])\n",
    "    df['stretch_price'] = df['CurrentCost'] / (1 - df['stretch_margin_percentage'])\n",
    "\n",
    "    df['floor_diff'] = df['floor_price'] - df['CurrentPrice']  \n",
    "    df['target_diff'] = df['target_price'] - df['CurrentPrice'] \n",
    "    df['stretch_diff'] = df['stretch_price']- df['CurrentPrice'] \n",
    "\n",
    "    diff_cols = ['floor_diff','target_diff','stretch_diff']\n",
    "    df[diff_cols] = df[diff_cols].replace(np.nan,0)\n",
    "\n",
    "    df['opportunity_diff'] = df['floor_diff'] + df['target_diff'] + df['stretch_diff']\n",
    "\n",
    "    return df"
   ]
  },
  {
   "cell_type": "code",
   "execution_count": 71,
   "metadata": {},
   "outputs": [],
   "source": [
    "test = preprocess_data_all(staging)"
   ]
  },
  {
   "cell_type": "code",
   "execution_count": 72,
   "metadata": {},
   "outputs": [
    {
     "data": {
      "text/plain": [
       "(684557, 41)"
      ]
     },
     "execution_count": 72,
     "metadata": {},
     "output_type": "execute_result"
    }
   ],
   "source": [
    "test.shape"
   ]
  },
  {
   "cell_type": "code",
   "execution_count": 73,
   "metadata": {},
   "outputs": [
    {
     "data": {
      "text/plain": [
       "(684557, 41)"
      ]
     },
     "execution_count": 73,
     "metadata": {},
     "output_type": "execute_result"
    }
   ],
   "source": [
    "staging.shape"
   ]
  },
  {
   "cell_type": "code",
   "execution_count": 74,
   "metadata": {},
   "outputs": [
    {
     "data": {
      "text/plain": [
       "M    684557\n",
       "Name: price_type, dtype: int64"
      ]
     },
     "execution_count": 74,
     "metadata": {},
     "output_type": "execute_result"
    }
   ],
   "source": [
    "test['price_type'].value_counts()"
   ]
  },
  {
   "cell_type": "code",
   "execution_count": 75,
   "metadata": {},
   "outputs": [
    {
     "data": {
      "text/plain": [
       "N    681621\n",
       "Y      2936\n",
       "Name: suspend_flag, dtype: int64"
      ]
     },
     "execution_count": 75,
     "metadata": {},
     "output_type": "execute_result"
    }
   ],
   "source": [
    "test['suspend_flag'].value_counts()\n"
   ]
  },
  {
   "cell_type": "code",
   "execution_count": 76,
   "metadata": {},
   "outputs": [
    {
     "data": {
      "text/plain": [
       "N    682884\n",
       "Y      1673\n",
       "Name: system_suspend_flag, dtype: int64"
      ]
     },
     "execution_count": 76,
     "metadata": {},
     "output_type": "execute_result"
    }
   ],
   "source": [
    "test['system_suspend_flag'].value_counts()\n"
   ]
  },
  {
   "cell_type": "code",
   "execution_count": 77,
   "metadata": {},
   "outputs": [],
   "source": [
    "presented = test[~test['DateOfLastPresentation'].isnull()]"
   ]
  },
  {
   "cell_type": "code",
   "execution_count": 78,
   "metadata": {},
   "outputs": [
    {
     "data": {
      "text/plain": [
       "(64207, 41)"
      ]
     },
     "execution_count": 78,
     "metadata": {},
     "output_type": "execute_result"
    }
   ],
   "source": [
    "presented.shape"
   ]
  },
  {
   "cell_type": "code",
   "execution_count": 79,
   "metadata": {},
   "outputs": [],
   "source": [
    "margin_cut_off = staging[staging['stretch_margin_percentage'] > 0.85] "
   ]
  },
  {
   "cell_type": "code",
   "execution_count": 80,
   "metadata": {},
   "outputs": [
    {
     "data": {
      "text/plain": [
       "(1359, 41)"
      ]
     },
     "execution_count": 80,
     "metadata": {},
     "output_type": "execute_result"
    }
   ],
   "source": [
    "margin_cut_off.shape"
   ]
  },
  {
   "cell_type": "code",
   "execution_count": 81,
   "metadata": {},
   "outputs": [
    {
     "data": {
      "text/html": [
       "<div>\n",
       "<style scoped>\n",
       "    .dataframe tbody tr th:only-of-type {\n",
       "        vertical-align: middle;\n",
       "    }\n",
       "\n",
       "    .dataframe tbody tr th {\n",
       "        vertical-align: top;\n",
       "    }\n",
       "\n",
       "    .dataframe thead th {\n",
       "        text-align: right;\n",
       "    }\n",
       "</style>\n",
       "<table border=\"1\" class=\"dataframe\">\n",
       "  <thead>\n",
       "    <tr style=\"text-align: right;\">\n",
       "      <th></th>\n",
       "      <th>customer_key</th>\n",
       "      <th>item_key</th>\n",
       "      <th>_12mo_Rev</th>\n",
       "      <th>_3mo_Projected_Demand</th>\n",
       "      <th>CurrentPrice</th>\n",
       "      <th>CurrentCost</th>\n",
       "      <th>LastPriceChange</th>\n",
       "      <th>floor_margin_percentage</th>\n",
       "      <th>target_margin_percentage</th>\n",
       "      <th>stretch_margin_percentage</th>\n",
       "      <th>...</th>\n",
       "      <th>cust_suspended</th>\n",
       "      <th>presented</th>\n",
       "      <th>margin_cut_off</th>\n",
       "      <th>floor_price</th>\n",
       "      <th>target_price</th>\n",
       "      <th>stretch_price</th>\n",
       "      <th>floor_diff</th>\n",
       "      <th>target_diff</th>\n",
       "      <th>stretch_diff</th>\n",
       "      <th>opportunity_diff</th>\n",
       "    </tr>\n",
       "  </thead>\n",
       "  <tbody>\n",
       "    <tr>\n",
       "      <th>0</th>\n",
       "      <td>451150</td>\n",
       "      <td>228618</td>\n",
       "      <td>424.00</td>\n",
       "      <td>0.0</td>\n",
       "      <td>212.00</td>\n",
       "      <td>95.4000</td>\n",
       "      <td>NaN</td>\n",
       "      <td>0.22729</td>\n",
       "      <td>0.30281</td>\n",
       "      <td>0.38911</td>\n",
       "      <td>...</td>\n",
       "      <td>PASS</td>\n",
       "      <td>PASS</td>\n",
       "      <td>PASS</td>\n",
       "      <td>123.461583</td>\n",
       "      <td>136.835009</td>\n",
       "      <td>156.165594</td>\n",
       "      <td>-88.538417</td>\n",
       "      <td>-75.164991</td>\n",
       "      <td>-55.834406</td>\n",
       "      <td>-219.537813</td>\n",
       "    </tr>\n",
       "    <tr>\n",
       "      <th>1</th>\n",
       "      <td>467599</td>\n",
       "      <td>228618</td>\n",
       "      <td>292.54</td>\n",
       "      <td>0.0</td>\n",
       "      <td>146.27</td>\n",
       "      <td>95.4000</td>\n",
       "      <td>NaN</td>\n",
       "      <td>0.17752</td>\n",
       "      <td>0.27659</td>\n",
       "      <td>0.48464</td>\n",
       "      <td>...</td>\n",
       "      <td>PASS</td>\n",
       "      <td>PASS</td>\n",
       "      <td>PASS</td>\n",
       "      <td>115.990662</td>\n",
       "      <td>131.875423</td>\n",
       "      <td>185.113319</td>\n",
       "      <td>-30.279338</td>\n",
       "      <td>-14.394577</td>\n",
       "      <td>38.843319</td>\n",
       "      <td>-5.830595</td>\n",
       "    </tr>\n",
       "    <tr>\n",
       "      <th>2</th>\n",
       "      <td>417538</td>\n",
       "      <td>228618</td>\n",
       "      <td>858.46</td>\n",
       "      <td>0.0</td>\n",
       "      <td>95.62</td>\n",
       "      <td>86.0600</td>\n",
       "      <td>20220407.0</td>\n",
       "      <td>0.23041</td>\n",
       "      <td>0.33708</td>\n",
       "      <td>0.41836</td>\n",
       "      <td>...</td>\n",
       "      <td>PASS</td>\n",
       "      <td>PASS</td>\n",
       "      <td>PASS</td>\n",
       "      <td>111.825777</td>\n",
       "      <td>129.819586</td>\n",
       "      <td>147.960938</td>\n",
       "      <td>16.205777</td>\n",
       "      <td>34.199586</td>\n",
       "      <td>52.340938</td>\n",
       "      <td>102.746301</td>\n",
       "    </tr>\n",
       "    <tr>\n",
       "      <th>3</th>\n",
       "      <td>459406</td>\n",
       "      <td>228620</td>\n",
       "      <td>440.95</td>\n",
       "      <td>2.0</td>\n",
       "      <td>88.19</td>\n",
       "      <td>81.3433</td>\n",
       "      <td>NaN</td>\n",
       "      <td>0.21882</td>\n",
       "      <td>0.34576</td>\n",
       "      <td>0.45317</td>\n",
       "      <td>...</td>\n",
       "      <td>PASS</td>\n",
       "      <td>PASS</td>\n",
       "      <td>PASS</td>\n",
       "      <td>104.128754</td>\n",
       "      <td>124.332508</td>\n",
       "      <td>148.754275</td>\n",
       "      <td>15.938754</td>\n",
       "      <td>36.142508</td>\n",
       "      <td>60.564275</td>\n",
       "      <td>112.645537</td>\n",
       "    </tr>\n",
       "    <tr>\n",
       "      <th>4</th>\n",
       "      <td>451362</td>\n",
       "      <td>228620</td>\n",
       "      <td>736.62</td>\n",
       "      <td>0.0</td>\n",
       "      <td>245.54</td>\n",
       "      <td>147.6600</td>\n",
       "      <td>NaN</td>\n",
       "      <td>0.21882</td>\n",
       "      <td>0.34576</td>\n",
       "      <td>0.45317</td>\n",
       "      <td>...</td>\n",
       "      <td>PASS</td>\n",
       "      <td>PASS</td>\n",
       "      <td>PASS</td>\n",
       "      <td>189.021736</td>\n",
       "      <td>225.696992</td>\n",
       "      <td>270.029077</td>\n",
       "      <td>-56.518264</td>\n",
       "      <td>-19.843008</td>\n",
       "      <td>24.489077</td>\n",
       "      <td>-51.872195</td>\n",
       "    </tr>\n",
       "  </tbody>\n",
       "</table>\n",
       "<p>5 rows × 41 columns</p>\n",
       "</div>"
      ],
      "text/plain": [
       "  customer_key item_key  _12mo_Rev  _3mo_Projected_Demand  CurrentPrice  \\\n",
       "0       451150   228618     424.00                    0.0        212.00   \n",
       "1       467599   228618     292.54                    0.0        146.27   \n",
       "2       417538   228618     858.46                    0.0         95.62   \n",
       "3       459406   228620     440.95                    2.0         88.19   \n",
       "4       451362   228620     736.62                    0.0        245.54   \n",
       "\n",
       "   CurrentCost  LastPriceChange  floor_margin_percentage  \\\n",
       "0      95.4000              NaN                  0.22729   \n",
       "1      95.4000              NaN                  0.17752   \n",
       "2      86.0600       20220407.0                  0.23041   \n",
       "3      81.3433              NaN                  0.21882   \n",
       "4     147.6600              NaN                  0.21882   \n",
       "\n",
       "   target_margin_percentage  stretch_margin_percentage  ...  cust_suspended  \\\n",
       "0                   0.30281                    0.38911  ...            PASS   \n",
       "1                   0.27659                    0.48464  ...            PASS   \n",
       "2                   0.33708                    0.41836  ...            PASS   \n",
       "3                   0.34576                    0.45317  ...            PASS   \n",
       "4                   0.34576                    0.45317  ...            PASS   \n",
       "\n",
       "  presented margin_cut_off floor_price target_price stretch_price floor_diff  \\\n",
       "0      PASS           PASS  123.461583   136.835009    156.165594 -88.538417   \n",
       "1      PASS           PASS  115.990662   131.875423    185.113319 -30.279338   \n",
       "2      PASS           PASS  111.825777   129.819586    147.960938  16.205777   \n",
       "3      PASS           PASS  104.128754   124.332508    148.754275  15.938754   \n",
       "4      PASS           PASS  189.021736   225.696992    270.029077 -56.518264   \n",
       "\n",
       "  target_diff stretch_diff opportunity_diff  \n",
       "0  -75.164991   -55.834406      -219.537813  \n",
       "1  -14.394577    38.843319        -5.830595  \n",
       "2   34.199586    52.340938       102.746301  \n",
       "3   36.142508    60.564275       112.645537  \n",
       "4  -19.843008    24.489077       -51.872195  \n",
       "\n",
       "[5 rows x 41 columns]"
      ]
     },
     "execution_count": 81,
     "metadata": {},
     "output_type": "execute_result"
    }
   ],
   "source": [
    "test.head()"
   ]
  },
  {
   "cell_type": "code",
   "execution_count": 82,
   "metadata": {},
   "outputs": [
    {
     "data": {
      "text/html": [
       "<div>\n",
       "<style scoped>\n",
       "    .dataframe tbody tr th:only-of-type {\n",
       "        vertical-align: middle;\n",
       "    }\n",
       "\n",
       "    .dataframe tbody tr th {\n",
       "        vertical-align: top;\n",
       "    }\n",
       "\n",
       "    .dataframe thead th {\n",
       "        text-align: right;\n",
       "    }\n",
       "</style>\n",
       "<table border=\"1\" class=\"dataframe\">\n",
       "  <thead>\n",
       "    <tr style=\"text-align: right;\">\n",
       "      <th></th>\n",
       "      <th>CustItem</th>\n",
       "      <th>Recency</th>\n",
       "      <th>RecencyCluster</th>\n",
       "      <th>Frequency</th>\n",
       "      <th>FrequencyCluster</th>\n",
       "      <th>Revenue</th>\n",
       "      <th>RevenueCluster</th>\n",
       "      <th>Density</th>\n",
       "      <th>DensityCluster</th>\n",
       "      <th>12mo_rev_rank</th>\n",
       "      <th>12MonthCluster</th>\n",
       "      <th>3mo_proj_demand_rank</th>\n",
       "      <th>3MonthUsageCluster</th>\n",
       "      <th>opportunity_rank</th>\n",
       "      <th>OpportunityCluster</th>\n",
       "      <th>lift_overall_rank</th>\n",
       "      <th>LiftCluster</th>\n",
       "    </tr>\n",
       "  </thead>\n",
       "  <tbody>\n",
       "    <tr>\n",
       "      <th>0</th>\n",
       "      <td>407185214973</td>\n",
       "      <td>149</td>\n",
       "      <td>2</td>\n",
       "      <td>1</td>\n",
       "      <td>0</td>\n",
       "      <td>40.92</td>\n",
       "      <td>0</td>\n",
       "      <td>1.0</td>\n",
       "      <td>0</td>\n",
       "      <td>112620.0</td>\n",
       "      <td>0</td>\n",
       "      <td>155.0</td>\n",
       "      <td>0</td>\n",
       "      <td>569405.0</td>\n",
       "      <td>3</td>\n",
       "      <td>147924.0</td>\n",
       "      <td>1</td>\n",
       "    </tr>\n",
       "    <tr>\n",
       "      <th>1</th>\n",
       "      <td>407779278088</td>\n",
       "      <td>189</td>\n",
       "      <td>2</td>\n",
       "      <td>1</td>\n",
       "      <td>0</td>\n",
       "      <td>39.56</td>\n",
       "      <td>0</td>\n",
       "      <td>4.0</td>\n",
       "      <td>0</td>\n",
       "      <td>108505.0</td>\n",
       "      <td>0</td>\n",
       "      <td>155.0</td>\n",
       "      <td>0</td>\n",
       "      <td>464574.0</td>\n",
       "      <td>3</td>\n",
       "      <td>211904.0</td>\n",
       "      <td>1</td>\n",
       "    </tr>\n",
       "    <tr>\n",
       "      <th>2</th>\n",
       "      <td>407780218317</td>\n",
       "      <td>121</td>\n",
       "      <td>2</td>\n",
       "      <td>2</td>\n",
       "      <td>0</td>\n",
       "      <td>71.45</td>\n",
       "      <td>0</td>\n",
       "      <td>2.0</td>\n",
       "      <td>0</td>\n",
       "      <td>100776.0</td>\n",
       "      <td>0</td>\n",
       "      <td>155.0</td>\n",
       "      <td>0</td>\n",
       "      <td>494576.0</td>\n",
       "      <td>3</td>\n",
       "      <td>162152.0</td>\n",
       "      <td>1</td>\n",
       "    </tr>\n",
       "    <tr>\n",
       "      <th>3</th>\n",
       "      <td>408360223893</td>\n",
       "      <td>148</td>\n",
       "      <td>2</td>\n",
       "      <td>2</td>\n",
       "      <td>0</td>\n",
       "      <td>57.46</td>\n",
       "      <td>0</td>\n",
       "      <td>2.0</td>\n",
       "      <td>0</td>\n",
       "      <td>76171.0</td>\n",
       "      <td>0</td>\n",
       "      <td>155.0</td>\n",
       "      <td>0</td>\n",
       "      <td>584628.0</td>\n",
       "      <td>3</td>\n",
       "      <td>191327.0</td>\n",
       "      <td>1</td>\n",
       "    </tr>\n",
       "    <tr>\n",
       "      <th>4</th>\n",
       "      <td>4084283335823</td>\n",
       "      <td>199</td>\n",
       "      <td>2</td>\n",
       "      <td>1</td>\n",
       "      <td>0</td>\n",
       "      <td>16.25</td>\n",
       "      <td>0</td>\n",
       "      <td>1.0</td>\n",
       "      <td>0</td>\n",
       "      <td>39331.0</td>\n",
       "      <td>0</td>\n",
       "      <td>155.0</td>\n",
       "      <td>0</td>\n",
       "      <td>559944.0</td>\n",
       "      <td>3</td>\n",
       "      <td>182556.0</td>\n",
       "      <td>1</td>\n",
       "    </tr>\n",
       "  </tbody>\n",
       "</table>\n",
       "</div>"
      ],
      "text/plain": [
       "        CustItem  Recency  RecencyCluster  Frequency  FrequencyCluster  \\\n",
       "0   407185214973      149               2          1                 0   \n",
       "1   407779278088      189               2          1                 0   \n",
       "2   407780218317      121               2          2                 0   \n",
       "3   408360223893      148               2          2                 0   \n",
       "4  4084283335823      199               2          1                 0   \n",
       "\n",
       "   Revenue  RevenueCluster  Density  DensityCluster  12mo_rev_rank  \\\n",
       "0    40.92               0      1.0               0       112620.0   \n",
       "1    39.56               0      4.0               0       108505.0   \n",
       "2    71.45               0      2.0               0       100776.0   \n",
       "3    57.46               0      2.0               0        76171.0   \n",
       "4    16.25               0      1.0               0        39331.0   \n",
       "\n",
       "   12MonthCluster  3mo_proj_demand_rank  3MonthUsageCluster  opportunity_rank  \\\n",
       "0               0                 155.0                   0          569405.0   \n",
       "1               0                 155.0                   0          464574.0   \n",
       "2               0                 155.0                   0          494576.0   \n",
       "3               0                 155.0                   0          584628.0   \n",
       "4               0                 155.0                   0          559944.0   \n",
       "\n",
       "   OpportunityCluster  lift_overall_rank  LiftCluster  \n",
       "0                   3           147924.0            1  \n",
       "1                   3           211904.0            1  \n",
       "2                   3           162152.0            1  \n",
       "3                   3           191327.0            1  \n",
       "4                   3           182556.0            1  "
      ]
     },
     "execution_count": 82,
     "metadata": {},
     "output_type": "execute_result"
    }
   ],
   "source": [
    "cust_item.head()"
   ]
  },
  {
   "cell_type": "code",
   "execution_count": 83,
   "metadata": {},
   "outputs": [
    {
     "data": {
      "text/plain": [
       "Index(['customer_key', 'item_key', '_12mo_Rev', '_3mo_Projected_Demand',\n",
       "       'CurrentPrice', 'CurrentCost', 'LastPriceChange',\n",
       "       'floor_margin_percentage', 'target_margin_percentage',\n",
       "       'stretch_margin_percentage', 'lift_overall', 'DateOfLastPresentation',\n",
       "       'system_suspend_flag', 'private_brand_flag', 'dispenser_flag',\n",
       "       'proprietary_flag', 'super_family', 'family_group', 'bin_rev_item',\n",
       "       'region', 'sales_rep_key', 'price_type', 'suspend_flag',\n",
       "       'distributor_negotiated_cost_flag', 'int_market_vert', 'bin_rev_cust',\n",
       "       'CustItem', 'identity_key', 'cust_item_key', 'system_suspend_Flag',\n",
       "       'item_suspended', 'cust_suspended', 'presented', 'margin_cut_off',\n",
       "       'floor_price', 'target_price', 'stretch_price', 'floor_diff',\n",
       "       'target_diff', 'stretch_diff', 'opportunity_diff'],\n",
       "      dtype='object')"
      ]
     },
     "execution_count": 83,
     "metadata": {},
     "output_type": "execute_result"
    }
   ],
   "source": [
    "test.columns"
   ]
  },
  {
   "cell_type": "code",
   "execution_count": 85,
   "metadata": {},
   "outputs": [],
   "source": [
    "test2 = test[['CustItem','customer_key', 'item_key', '_12mo_Rev', '_3mo_Projected_Demand','CurrentPrice', 'CurrentCost', 'LastPriceChange','lift_overall', 'DateOfLastPresentation',\n",
    "       'system_suspend_flag', 'bin_rev_item','region', 'sales_rep_key', 'price_type', 'suspend_flag','bin_rev_cust', 'item_suspended', 'cust_suspended', 'presented', 'margin_cut_off',\n",
    "       'floor_price','target_price', 'stretch_price']]"
   ]
  },
  {
   "cell_type": "code",
   "execution_count": 86,
   "metadata": {},
   "outputs": [],
   "source": [
    "test_dups = test2[test2.duplicated()]"
   ]
  },
  {
   "cell_type": "code",
   "execution_count": 87,
   "metadata": {},
   "outputs": [
    {
     "data": {
      "text/plain": [
       "(12910, 24)"
      ]
     },
     "execution_count": 87,
     "metadata": {},
     "output_type": "execute_result"
    }
   ],
   "source": [
    "test_dups.shape"
   ]
  },
  {
   "cell_type": "code",
   "execution_count": 88,
   "metadata": {},
   "outputs": [],
   "source": [
    "test_dups['duplication'] = 'FAIL'"
   ]
  },
  {
   "cell_type": "code",
   "execution_count": 89,
   "metadata": {},
   "outputs": [],
   "source": [
    "test_unique = test2.drop_duplicates()"
   ]
  },
  {
   "cell_type": "code",
   "execution_count": 90,
   "metadata": {},
   "outputs": [],
   "source": [
    "test_unique['duplication'] = 'PASS'"
   ]
  },
  {
   "cell_type": "code",
   "execution_count": 91,
   "metadata": {},
   "outputs": [],
   "source": [
    "test3 = pd.concat([test_unique, test_dups])"
   ]
  },
  {
   "cell_type": "code",
   "execution_count": 92,
   "metadata": {},
   "outputs": [
    {
     "data": {
      "text/html": [
       "<div>\n",
       "<style scoped>\n",
       "    .dataframe tbody tr th:only-of-type {\n",
       "        vertical-align: middle;\n",
       "    }\n",
       "\n",
       "    .dataframe tbody tr th {\n",
       "        vertical-align: top;\n",
       "    }\n",
       "\n",
       "    .dataframe thead th {\n",
       "        text-align: right;\n",
       "    }\n",
       "</style>\n",
       "<table border=\"1\" class=\"dataframe\">\n",
       "  <thead>\n",
       "    <tr style=\"text-align: right;\">\n",
       "      <th></th>\n",
       "      <th>CustItem</th>\n",
       "      <th>customer_key</th>\n",
       "      <th>item_key</th>\n",
       "      <th>_12mo_Rev</th>\n",
       "      <th>_3mo_Projected_Demand</th>\n",
       "      <th>CurrentPrice</th>\n",
       "      <th>CurrentCost</th>\n",
       "      <th>LastPriceChange</th>\n",
       "      <th>lift_overall</th>\n",
       "      <th>DateOfLastPresentation</th>\n",
       "      <th>...</th>\n",
       "      <th>suspend_flag</th>\n",
       "      <th>bin_rev_cust</th>\n",
       "      <th>item_suspended</th>\n",
       "      <th>cust_suspended</th>\n",
       "      <th>presented</th>\n",
       "      <th>margin_cut_off</th>\n",
       "      <th>floor_price</th>\n",
       "      <th>target_price</th>\n",
       "      <th>stretch_price</th>\n",
       "      <th>duplication</th>\n",
       "    </tr>\n",
       "  </thead>\n",
       "  <tbody>\n",
       "    <tr>\n",
       "      <th>0</th>\n",
       "      <td>451150228618</td>\n",
       "      <td>451150</td>\n",
       "      <td>228618</td>\n",
       "      <td>424.00</td>\n",
       "      <td>0.0</td>\n",
       "      <td>212.00</td>\n",
       "      <td>95.4000</td>\n",
       "      <td>NaN</td>\n",
       "      <td>1679.958</td>\n",
       "      <td>NaT</td>\n",
       "      <td>...</td>\n",
       "      <td>N</td>\n",
       "      <td>C</td>\n",
       "      <td>PASS</td>\n",
       "      <td>PASS</td>\n",
       "      <td>PASS</td>\n",
       "      <td>PASS</td>\n",
       "      <td>123.461583</td>\n",
       "      <td>136.835009</td>\n",
       "      <td>156.165594</td>\n",
       "      <td>PASS</td>\n",
       "    </tr>\n",
       "    <tr>\n",
       "      <th>1</th>\n",
       "      <td>467599228618</td>\n",
       "      <td>467599</td>\n",
       "      <td>228618</td>\n",
       "      <td>292.54</td>\n",
       "      <td>0.0</td>\n",
       "      <td>146.27</td>\n",
       "      <td>95.4000</td>\n",
       "      <td>NaN</td>\n",
       "      <td>4344.335</td>\n",
       "      <td>NaT</td>\n",
       "      <td>...</td>\n",
       "      <td>N</td>\n",
       "      <td>B</td>\n",
       "      <td>PASS</td>\n",
       "      <td>PASS</td>\n",
       "      <td>PASS</td>\n",
       "      <td>PASS</td>\n",
       "      <td>115.990662</td>\n",
       "      <td>131.875423</td>\n",
       "      <td>185.113319</td>\n",
       "      <td>PASS</td>\n",
       "    </tr>\n",
       "    <tr>\n",
       "      <th>2</th>\n",
       "      <td>417538228618</td>\n",
       "      <td>417538</td>\n",
       "      <td>228618</td>\n",
       "      <td>858.46</td>\n",
       "      <td>0.0</td>\n",
       "      <td>95.62</td>\n",
       "      <td>86.0600</td>\n",
       "      <td>20220407.0</td>\n",
       "      <td>754.487</td>\n",
       "      <td>NaT</td>\n",
       "      <td>...</td>\n",
       "      <td>N</td>\n",
       "      <td>B</td>\n",
       "      <td>PASS</td>\n",
       "      <td>PASS</td>\n",
       "      <td>PASS</td>\n",
       "      <td>PASS</td>\n",
       "      <td>111.825777</td>\n",
       "      <td>129.819586</td>\n",
       "      <td>147.960938</td>\n",
       "      <td>PASS</td>\n",
       "    </tr>\n",
       "    <tr>\n",
       "      <th>3</th>\n",
       "      <td>459406228620</td>\n",
       "      <td>459406</td>\n",
       "      <td>228620</td>\n",
       "      <td>440.95</td>\n",
       "      <td>2.0</td>\n",
       "      <td>88.19</td>\n",
       "      <td>81.3433</td>\n",
       "      <td>NaN</td>\n",
       "      <td>1884.828</td>\n",
       "      <td>NaT</td>\n",
       "      <td>...</td>\n",
       "      <td>N</td>\n",
       "      <td>C</td>\n",
       "      <td>PASS</td>\n",
       "      <td>PASS</td>\n",
       "      <td>PASS</td>\n",
       "      <td>PASS</td>\n",
       "      <td>104.128754</td>\n",
       "      <td>124.332508</td>\n",
       "      <td>148.754275</td>\n",
       "      <td>PASS</td>\n",
       "    </tr>\n",
       "    <tr>\n",
       "      <th>4</th>\n",
       "      <td>451362228620</td>\n",
       "      <td>451362</td>\n",
       "      <td>228620</td>\n",
       "      <td>736.62</td>\n",
       "      <td>0.0</td>\n",
       "      <td>245.54</td>\n",
       "      <td>147.6600</td>\n",
       "      <td>NaN</td>\n",
       "      <td>1884.828</td>\n",
       "      <td>NaT</td>\n",
       "      <td>...</td>\n",
       "      <td>N</td>\n",
       "      <td>C</td>\n",
       "      <td>PASS</td>\n",
       "      <td>PASS</td>\n",
       "      <td>PASS</td>\n",
       "      <td>PASS</td>\n",
       "      <td>189.021736</td>\n",
       "      <td>225.696992</td>\n",
       "      <td>270.029077</td>\n",
       "      <td>PASS</td>\n",
       "    </tr>\n",
       "  </tbody>\n",
       "</table>\n",
       "<p>5 rows × 25 columns</p>\n",
       "</div>"
      ],
      "text/plain": [
       "       CustItem customer_key item_key  _12mo_Rev  _3mo_Projected_Demand  \\\n",
       "0  451150228618       451150   228618     424.00                    0.0   \n",
       "1  467599228618       467599   228618     292.54                    0.0   \n",
       "2  417538228618       417538   228618     858.46                    0.0   \n",
       "3  459406228620       459406   228620     440.95                    2.0   \n",
       "4  451362228620       451362   228620     736.62                    0.0   \n",
       "\n",
       "   CurrentPrice  CurrentCost  LastPriceChange  lift_overall  \\\n",
       "0        212.00      95.4000              NaN      1679.958   \n",
       "1        146.27      95.4000              NaN      4344.335   \n",
       "2         95.62      86.0600       20220407.0       754.487   \n",
       "3         88.19      81.3433              NaN      1884.828   \n",
       "4        245.54     147.6600              NaN      1884.828   \n",
       "\n",
       "  DateOfLastPresentation  ... suspend_flag bin_rev_cust item_suspended  \\\n",
       "0                    NaT  ...            N            C           PASS   \n",
       "1                    NaT  ...            N            B           PASS   \n",
       "2                    NaT  ...            N            B           PASS   \n",
       "3                    NaT  ...            N            C           PASS   \n",
       "4                    NaT  ...            N            C           PASS   \n",
       "\n",
       "  cust_suspended presented margin_cut_off floor_price target_price  \\\n",
       "0           PASS      PASS           PASS  123.461583   136.835009   \n",
       "1           PASS      PASS           PASS  115.990662   131.875423   \n",
       "2           PASS      PASS           PASS  111.825777   129.819586   \n",
       "3           PASS      PASS           PASS  104.128754   124.332508   \n",
       "4           PASS      PASS           PASS  189.021736   225.696992   \n",
       "\n",
       "  stretch_price duplication  \n",
       "0    156.165594        PASS  \n",
       "1    185.113319        PASS  \n",
       "2    147.960938        PASS  \n",
       "3    148.754275        PASS  \n",
       "4    270.029077        PASS  \n",
       "\n",
       "[5 rows x 25 columns]"
      ]
     },
     "execution_count": 92,
     "metadata": {},
     "output_type": "execute_result"
    }
   ],
   "source": [
    "test3.head()"
   ]
  },
  {
   "cell_type": "code",
   "execution_count": 95,
   "metadata": {},
   "outputs": [],
   "source": [
    "test4 = pd.merge(test3, cust_item, on=['CustItem'], how='left')"
   ]
  },
  {
   "cell_type": "code",
   "execution_count": 150,
   "metadata": {},
   "outputs": [],
   "source": [
    "test4.to_csv('test4.csv',index=False)"
   ]
  },
  {
   "cell_type": "code",
   "execution_count": 98,
   "metadata": {},
   "outputs": [],
   "source": [
    "test5 = test4.drop(columns=['DateOfLastPresentation', '12mo_rev_rank', '3mo_proj_demand_rank','opportunity_rank','lift_overall_rank'])"
   ]
  },
  {
   "cell_type": "code",
   "execution_count": 99,
   "metadata": {},
   "outputs": [],
   "source": [
    "test5.drop(columns=['CurrentPrice', 'CurrentCost', 'system_suspend_flag','price_type', 'suspend_flag','floor_price', 'target_price','stretch_price'],inplace=True)"
   ]
  },
  {
   "cell_type": "code",
   "execution_count": 100,
   "metadata": {},
   "outputs": [
    {
     "data": {
      "text/html": [
       "<div>\n",
       "<style scoped>\n",
       "    .dataframe tbody tr th:only-of-type {\n",
       "        vertical-align: middle;\n",
       "    }\n",
       "\n",
       "    .dataframe tbody tr th {\n",
       "        vertical-align: top;\n",
       "    }\n",
       "\n",
       "    .dataframe thead th {\n",
       "        text-align: right;\n",
       "    }\n",
       "</style>\n",
       "<table border=\"1\" class=\"dataframe\">\n",
       "  <thead>\n",
       "    <tr style=\"text-align: right;\">\n",
       "      <th></th>\n",
       "      <th>CustItem</th>\n",
       "      <th>customer_key</th>\n",
       "      <th>item_key</th>\n",
       "      <th>_12mo_Rev</th>\n",
       "      <th>_3mo_Projected_Demand</th>\n",
       "      <th>LastPriceChange</th>\n",
       "      <th>lift_overall</th>\n",
       "      <th>bin_rev_item</th>\n",
       "      <th>region</th>\n",
       "      <th>sales_rep_key</th>\n",
       "      <th>...</th>\n",
       "      <th>Frequency</th>\n",
       "      <th>FrequencyCluster</th>\n",
       "      <th>Revenue</th>\n",
       "      <th>RevenueCluster</th>\n",
       "      <th>Density</th>\n",
       "      <th>DensityCluster</th>\n",
       "      <th>12MonthCluster</th>\n",
       "      <th>3MonthUsageCluster</th>\n",
       "      <th>OpportunityCluster</th>\n",
       "      <th>LiftCluster</th>\n",
       "    </tr>\n",
       "  </thead>\n",
       "  <tbody>\n",
       "    <tr>\n",
       "      <th>0</th>\n",
       "      <td>451150228618</td>\n",
       "      <td>451150</td>\n",
       "      <td>228618</td>\n",
       "      <td>424.00</td>\n",
       "      <td>0.0</td>\n",
       "      <td>NaN</td>\n",
       "      <td>1679.958</td>\n",
       "      <td>D</td>\n",
       "      <td>West</td>\n",
       "      <td>2518.0</td>\n",
       "      <td>...</td>\n",
       "      <td>4.0</td>\n",
       "      <td>0.0</td>\n",
       "      <td>424.00</td>\n",
       "      <td>0.0</td>\n",
       "      <td>2.0</td>\n",
       "      <td>0.0</td>\n",
       "      <td>3.0</td>\n",
       "      <td>0.0</td>\n",
       "      <td>0.0</td>\n",
       "      <td>2.0</td>\n",
       "    </tr>\n",
       "    <tr>\n",
       "      <th>1</th>\n",
       "      <td>467599228618</td>\n",
       "      <td>467599</td>\n",
       "      <td>228618</td>\n",
       "      <td>292.54</td>\n",
       "      <td>0.0</td>\n",
       "      <td>NaN</td>\n",
       "      <td>4344.335</td>\n",
       "      <td>D</td>\n",
       "      <td>West</td>\n",
       "      <td>1982.0</td>\n",
       "      <td>...</td>\n",
       "      <td>NaN</td>\n",
       "      <td>NaN</td>\n",
       "      <td>NaN</td>\n",
       "      <td>NaN</td>\n",
       "      <td>NaN</td>\n",
       "      <td>NaN</td>\n",
       "      <td>NaN</td>\n",
       "      <td>NaN</td>\n",
       "      <td>NaN</td>\n",
       "      <td>NaN</td>\n",
       "    </tr>\n",
       "    <tr>\n",
       "      <th>2</th>\n",
       "      <td>417538228618</td>\n",
       "      <td>417538</td>\n",
       "      <td>228618</td>\n",
       "      <td>858.46</td>\n",
       "      <td>0.0</td>\n",
       "      <td>20220407.0</td>\n",
       "      <td>754.487</td>\n",
       "      <td>D</td>\n",
       "      <td>West</td>\n",
       "      <td>2288.0</td>\n",
       "      <td>...</td>\n",
       "      <td>15.0</td>\n",
       "      <td>1.0</td>\n",
       "      <td>1999.54</td>\n",
       "      <td>0.0</td>\n",
       "      <td>21.0</td>\n",
       "      <td>0.0</td>\n",
       "      <td>4.0</td>\n",
       "      <td>0.0</td>\n",
       "      <td>3.0</td>\n",
       "      <td>1.0</td>\n",
       "    </tr>\n",
       "    <tr>\n",
       "      <th>3</th>\n",
       "      <td>459406228620</td>\n",
       "      <td>459406</td>\n",
       "      <td>228620</td>\n",
       "      <td>440.95</td>\n",
       "      <td>2.0</td>\n",
       "      <td>NaN</td>\n",
       "      <td>1884.828</td>\n",
       "      <td>D</td>\n",
       "      <td>West</td>\n",
       "      <td>1840.0</td>\n",
       "      <td>...</td>\n",
       "      <td>7.0</td>\n",
       "      <td>0.0</td>\n",
       "      <td>529.14</td>\n",
       "      <td>0.0</td>\n",
       "      <td>6.0</td>\n",
       "      <td>0.0</td>\n",
       "      <td>3.0</td>\n",
       "      <td>1.0</td>\n",
       "      <td>3.0</td>\n",
       "      <td>2.0</td>\n",
       "    </tr>\n",
       "    <tr>\n",
       "      <th>4</th>\n",
       "      <td>451362228620</td>\n",
       "      <td>451362</td>\n",
       "      <td>228620</td>\n",
       "      <td>736.62</td>\n",
       "      <td>0.0</td>\n",
       "      <td>NaN</td>\n",
       "      <td>1884.828</td>\n",
       "      <td>D</td>\n",
       "      <td>West</td>\n",
       "      <td>2023.0</td>\n",
       "      <td>...</td>\n",
       "      <td>2.0</td>\n",
       "      <td>0.0</td>\n",
       "      <td>736.62</td>\n",
       "      <td>0.0</td>\n",
       "      <td>3.0</td>\n",
       "      <td>0.0</td>\n",
       "      <td>4.0</td>\n",
       "      <td>0.0</td>\n",
       "      <td>0.0</td>\n",
       "      <td>2.0</td>\n",
       "    </tr>\n",
       "    <tr>\n",
       "      <th>5</th>\n",
       "      <td>474248228620</td>\n",
       "      <td>474248</td>\n",
       "      <td>228620</td>\n",
       "      <td>143.78</td>\n",
       "      <td>0.0</td>\n",
       "      <td>NaN</td>\n",
       "      <td>1302.263</td>\n",
       "      <td>D</td>\n",
       "      <td>West</td>\n",
       "      <td>1841.0</td>\n",
       "      <td>...</td>\n",
       "      <td>1.0</td>\n",
       "      <td>0.0</td>\n",
       "      <td>143.78</td>\n",
       "      <td>0.0</td>\n",
       "      <td>1.0</td>\n",
       "      <td>0.0</td>\n",
       "      <td>2.0</td>\n",
       "      <td>0.0</td>\n",
       "      <td>0.0</td>\n",
       "      <td>2.0</td>\n",
       "    </tr>\n",
       "    <tr>\n",
       "      <th>6</th>\n",
       "      <td>448000228620</td>\n",
       "      <td>448000</td>\n",
       "      <td>228620</td>\n",
       "      <td>3159.92</td>\n",
       "      <td>0.0</td>\n",
       "      <td>20220224.0</td>\n",
       "      <td>1884.828</td>\n",
       "      <td>D</td>\n",
       "      <td>West</td>\n",
       "      <td>1849.0</td>\n",
       "      <td>...</td>\n",
       "      <td>23.0</td>\n",
       "      <td>1.0</td>\n",
       "      <td>4603.70</td>\n",
       "      <td>0.0</td>\n",
       "      <td>41.0</td>\n",
       "      <td>0.0</td>\n",
       "      <td>4.0</td>\n",
       "      <td>0.0</td>\n",
       "      <td>0.0</td>\n",
       "      <td>2.0</td>\n",
       "    </tr>\n",
       "    <tr>\n",
       "      <th>7</th>\n",
       "      <td>442274228620</td>\n",
       "      <td>442274</td>\n",
       "      <td>228620</td>\n",
       "      <td>173.72</td>\n",
       "      <td>0.0</td>\n",
       "      <td>NaN</td>\n",
       "      <td>592.747</td>\n",
       "      <td>D</td>\n",
       "      <td>West</td>\n",
       "      <td>2220.0</td>\n",
       "      <td>...</td>\n",
       "      <td>2.0</td>\n",
       "      <td>0.0</td>\n",
       "      <td>173.72</td>\n",
       "      <td>0.0</td>\n",
       "      <td>1.0</td>\n",
       "      <td>0.0</td>\n",
       "      <td>2.0</td>\n",
       "      <td>0.0</td>\n",
       "      <td>3.0</td>\n",
       "      <td>1.0</td>\n",
       "    </tr>\n",
       "    <tr>\n",
       "      <th>8</th>\n",
       "      <td>434042228620</td>\n",
       "      <td>434042</td>\n",
       "      <td>228620</td>\n",
       "      <td>111.86</td>\n",
       "      <td>0.0</td>\n",
       "      <td>NaN</td>\n",
       "      <td>705.362</td>\n",
       "      <td>D</td>\n",
       "      <td>West</td>\n",
       "      <td>2394.0</td>\n",
       "      <td>...</td>\n",
       "      <td>1.0</td>\n",
       "      <td>0.0</td>\n",
       "      <td>111.86</td>\n",
       "      <td>0.0</td>\n",
       "      <td>1.0</td>\n",
       "      <td>0.0</td>\n",
       "      <td>2.0</td>\n",
       "      <td>0.0</td>\n",
       "      <td>3.0</td>\n",
       "      <td>1.0</td>\n",
       "    </tr>\n",
       "    <tr>\n",
       "      <th>9</th>\n",
       "      <td>418327228620</td>\n",
       "      <td>418327</td>\n",
       "      <td>228620</td>\n",
       "      <td>625.70</td>\n",
       "      <td>0.0</td>\n",
       "      <td>NaN</td>\n",
       "      <td>1897.476</td>\n",
       "      <td>D</td>\n",
       "      <td>West</td>\n",
       "      <td>2533.0</td>\n",
       "      <td>...</td>\n",
       "      <td>NaN</td>\n",
       "      <td>NaN</td>\n",
       "      <td>NaN</td>\n",
       "      <td>NaN</td>\n",
       "      <td>NaN</td>\n",
       "      <td>NaN</td>\n",
       "      <td>NaN</td>\n",
       "      <td>NaN</td>\n",
       "      <td>NaN</td>\n",
       "      <td>NaN</td>\n",
       "    </tr>\n",
       "  </tbody>\n",
       "</table>\n",
       "<p>10 rows × 28 columns</p>\n",
       "</div>"
      ],
      "text/plain": [
       "       CustItem customer_key item_key  _12mo_Rev  _3mo_Projected_Demand  \\\n",
       "0  451150228618       451150   228618     424.00                    0.0   \n",
       "1  467599228618       467599   228618     292.54                    0.0   \n",
       "2  417538228618       417538   228618     858.46                    0.0   \n",
       "3  459406228620       459406   228620     440.95                    2.0   \n",
       "4  451362228620       451362   228620     736.62                    0.0   \n",
       "5  474248228620       474248   228620     143.78                    0.0   \n",
       "6  448000228620       448000   228620    3159.92                    0.0   \n",
       "7  442274228620       442274   228620     173.72                    0.0   \n",
       "8  434042228620       434042   228620     111.86                    0.0   \n",
       "9  418327228620       418327   228620     625.70                    0.0   \n",
       "\n",
       "   LastPriceChange  lift_overall bin_rev_item region sales_rep_key  ...  \\\n",
       "0              NaN      1679.958            D   West        2518.0  ...   \n",
       "1              NaN      4344.335            D   West        1982.0  ...   \n",
       "2       20220407.0       754.487            D   West        2288.0  ...   \n",
       "3              NaN      1884.828            D   West        1840.0  ...   \n",
       "4              NaN      1884.828            D   West        2023.0  ...   \n",
       "5              NaN      1302.263            D   West        1841.0  ...   \n",
       "6       20220224.0      1884.828            D   West        1849.0  ...   \n",
       "7              NaN       592.747            D   West        2220.0  ...   \n",
       "8              NaN       705.362            D   West        2394.0  ...   \n",
       "9              NaN      1897.476            D   West        2533.0  ...   \n",
       "\n",
       "  Frequency FrequencyCluster  Revenue RevenueCluster Density DensityCluster  \\\n",
       "0       4.0              0.0   424.00            0.0     2.0            0.0   \n",
       "1       NaN              NaN      NaN            NaN     NaN            NaN   \n",
       "2      15.0              1.0  1999.54            0.0    21.0            0.0   \n",
       "3       7.0              0.0   529.14            0.0     6.0            0.0   \n",
       "4       2.0              0.0   736.62            0.0     3.0            0.0   \n",
       "5       1.0              0.0   143.78            0.0     1.0            0.0   \n",
       "6      23.0              1.0  4603.70            0.0    41.0            0.0   \n",
       "7       2.0              0.0   173.72            0.0     1.0            0.0   \n",
       "8       1.0              0.0   111.86            0.0     1.0            0.0   \n",
       "9       NaN              NaN      NaN            NaN     NaN            NaN   \n",
       "\n",
       "   12MonthCluster  3MonthUsageCluster  OpportunityCluster  LiftCluster  \n",
       "0             3.0                 0.0                 0.0          2.0  \n",
       "1             NaN                 NaN                 NaN          NaN  \n",
       "2             4.0                 0.0                 3.0          1.0  \n",
       "3             3.0                 1.0                 3.0          2.0  \n",
       "4             4.0                 0.0                 0.0          2.0  \n",
       "5             2.0                 0.0                 0.0          2.0  \n",
       "6             4.0                 0.0                 0.0          2.0  \n",
       "7             2.0                 0.0                 3.0          1.0  \n",
       "8             2.0                 0.0                 3.0          1.0  \n",
       "9             NaN                 NaN                 NaN          NaN  \n",
       "\n",
       "[10 rows x 28 columns]"
      ]
     },
     "execution_count": 100,
     "metadata": {},
     "output_type": "execute_result"
    }
   ],
   "source": [
    "test5.head(10)"
   ]
  },
  {
   "cell_type": "code",
   "execution_count": 101,
   "metadata": {},
   "outputs": [
    {
     "data": {
      "text/html": [
       "<div>\n",
       "<style scoped>\n",
       "    .dataframe tbody tr th:only-of-type {\n",
       "        vertical-align: middle;\n",
       "    }\n",
       "\n",
       "    .dataframe tbody tr th {\n",
       "        vertical-align: top;\n",
       "    }\n",
       "\n",
       "    .dataframe thead th {\n",
       "        text-align: right;\n",
       "    }\n",
       "</style>\n",
       "<table border=\"1\" class=\"dataframe\">\n",
       "  <thead>\n",
       "    <tr style=\"text-align: right;\">\n",
       "      <th></th>\n",
       "      <th>CustItem</th>\n",
       "      <th>Shipped Quantity</th>\n",
       "      <th>Sales Amount</th>\n",
       "      <th>Date</th>\n",
       "      <th>Revenue</th>\n",
       "      <th>Density</th>\n",
       "    </tr>\n",
       "  </thead>\n",
       "  <tbody>\n",
       "    <tr>\n",
       "      <th>0</th>\n",
       "      <td>407185214973</td>\n",
       "      <td>1.0</td>\n",
       "      <td>40.92</td>\n",
       "      <td>2022-03-02</td>\n",
       "      <td>40.92</td>\n",
       "      <td>1.0</td>\n",
       "    </tr>\n",
       "    <tr>\n",
       "      <th>1</th>\n",
       "      <td>407185217763</td>\n",
       "      <td>1.0</td>\n",
       "      <td>31.56</td>\n",
       "      <td>2021-06-21</td>\n",
       "      <td>31.56</td>\n",
       "      <td>1.0</td>\n",
       "    </tr>\n",
       "    <tr>\n",
       "      <th>2</th>\n",
       "      <td>407185220008</td>\n",
       "      <td>1.0</td>\n",
       "      <td>45.97</td>\n",
       "      <td>2021-06-21</td>\n",
       "      <td>45.97</td>\n",
       "      <td>1.0</td>\n",
       "    </tr>\n",
       "    <tr>\n",
       "      <th>3</th>\n",
       "      <td>407185220031</td>\n",
       "      <td>1.0</td>\n",
       "      <td>41.39</td>\n",
       "      <td>2021-10-12</td>\n",
       "      <td>41.39</td>\n",
       "      <td>1.0</td>\n",
       "    </tr>\n",
       "    <tr>\n",
       "      <th>4</th>\n",
       "      <td>407185220187</td>\n",
       "      <td>1.0</td>\n",
       "      <td>78.64</td>\n",
       "      <td>2020-11-16</td>\n",
       "      <td>78.64</td>\n",
       "      <td>1.0</td>\n",
       "    </tr>\n",
       "  </tbody>\n",
       "</table>\n",
       "</div>"
      ],
      "text/plain": [
       "       CustItem  Shipped Quantity  Sales Amount       Date  Revenue  Density\n",
       "0  407185214973               1.0         40.92 2022-03-02    40.92      1.0\n",
       "1  407185217763               1.0         31.56 2021-06-21    31.56      1.0\n",
       "2  407185220008               1.0         45.97 2021-06-21    45.97      1.0\n",
       "3  407185220031               1.0         41.39 2021-10-12    41.39      1.0\n",
       "4  407185220187               1.0         78.64 2020-11-16    78.64      1.0"
      ]
     },
     "execution_count": 101,
     "metadata": {},
     "output_type": "execute_result"
    }
   ],
   "source": [
    "sales.head()"
   ]
  },
  {
   "cell_type": "code",
   "execution_count": 102,
   "metadata": {},
   "outputs": [],
   "source": [
    "fact_sales = sales.groupby('CustItem')['Shipped Quantity','Sales Amount'].sum().reset_index()"
   ]
  },
  {
   "cell_type": "code",
   "execution_count": 103,
   "metadata": {},
   "outputs": [
    {
     "data": {
      "text/html": [
       "<div>\n",
       "<style scoped>\n",
       "    .dataframe tbody tr th:only-of-type {\n",
       "        vertical-align: middle;\n",
       "    }\n",
       "\n",
       "    .dataframe tbody tr th {\n",
       "        vertical-align: top;\n",
       "    }\n",
       "\n",
       "    .dataframe thead th {\n",
       "        text-align: right;\n",
       "    }\n",
       "</style>\n",
       "<table border=\"1\" class=\"dataframe\">\n",
       "  <thead>\n",
       "    <tr style=\"text-align: right;\">\n",
       "      <th></th>\n",
       "      <th>CustItem</th>\n",
       "      <th>Shipped Quantity</th>\n",
       "      <th>Sales Amount</th>\n",
       "    </tr>\n",
       "  </thead>\n",
       "  <tbody>\n",
       "    <tr>\n",
       "      <th>0</th>\n",
       "      <td>19930603258059</td>\n",
       "      <td>200.0</td>\n",
       "      <td>416.00</td>\n",
       "    </tr>\n",
       "    <tr>\n",
       "      <th>1</th>\n",
       "      <td>19930603258560</td>\n",
       "      <td>7.0</td>\n",
       "      <td>90.30</td>\n",
       "    </tr>\n",
       "    <tr>\n",
       "      <th>2</th>\n",
       "      <td>19930603259381</td>\n",
       "      <td>25.0</td>\n",
       "      <td>491.50</td>\n",
       "    </tr>\n",
       "    <tr>\n",
       "      <th>3</th>\n",
       "      <td>19930603259517</td>\n",
       "      <td>7.0</td>\n",
       "      <td>270.55</td>\n",
       "    </tr>\n",
       "    <tr>\n",
       "      <th>4</th>\n",
       "      <td>19930603259548</td>\n",
       "      <td>3.0</td>\n",
       "      <td>415.17</td>\n",
       "    </tr>\n",
       "  </tbody>\n",
       "</table>\n",
       "</div>"
      ],
      "text/plain": [
       "         CustItem  Shipped Quantity  Sales Amount\n",
       "0  19930603258059             200.0        416.00\n",
       "1  19930603258560               7.0         90.30\n",
       "2  19930603259381              25.0        491.50\n",
       "3  19930603259517               7.0        270.55\n",
       "4  19930603259548               3.0        415.17"
      ]
     },
     "execution_count": 103,
     "metadata": {},
     "output_type": "execute_result"
    }
   ],
   "source": [
    "fact_sales.head()"
   ]
  },
  {
   "cell_type": "code",
   "execution_count": 104,
   "metadata": {},
   "outputs": [
    {
     "name": "stdout",
     "output_type": "stream",
     "text": [
      "<class 'pandas.core.frame.DataFrame'>\n",
      "RangeIndex: 646826 entries, 0 to 646825\n",
      "Data columns (total 3 columns):\n",
      " #   Column            Non-Null Count   Dtype  \n",
      "---  ------            --------------   -----  \n",
      " 0   CustItem          646826 non-null  object \n",
      " 1   Shipped Quantity  646826 non-null  float64\n",
      " 2   Sales Amount      646826 non-null  float64\n",
      "dtypes: float64(2), object(1)\n",
      "memory usage: 14.8+ MB\n"
     ]
    }
   ],
   "source": [
    "fact_sales.info()"
   ]
  },
  {
   "cell_type": "code",
   "execution_count": 105,
   "metadata": {},
   "outputs": [
    {
     "data": {
      "text/plain": [
       "-3229.0"
      ]
     },
     "execution_count": 105,
     "metadata": {},
     "output_type": "execute_result"
    }
   ],
   "source": [
    "fact_sales['Shipped Quantity'].min()"
   ]
  },
  {
   "cell_type": "code",
   "execution_count": 106,
   "metadata": {},
   "outputs": [],
   "source": [
    "test6 = pd.merge(test5, fact_sales, on=['CustItem'],how='left')"
   ]
  },
  {
   "cell_type": "code",
   "execution_count": 173,
   "metadata": {},
   "outputs": [],
   "source": [
    "#test6.to_csv('test6.csv',index=False)"
   ]
  },
  {
   "cell_type": "code",
   "execution_count": 107,
   "metadata": {},
   "outputs": [],
   "source": [
    "test6[\"Recency\"].fillna(-99999, inplace = True)\n",
    "test6[\"RecencyCluster\"].fillna(-99999, inplace = True)\n",
    "test6[\"Frequency\"].fillna(-99999, inplace = True)\n",
    "test6[\"FrequencyCluster\"].fillna(-99999, inplace = True)\n",
    "test6[\"Revenue\"].fillna(-99999, inplace = True)\n",
    "test6[\"RevenueCluster\"].fillna(-99999, inplace = True)\n",
    "test6[\"Density\"].fillna(-99999, inplace = True)\n",
    "test6[\"DensityCluster\"].fillna(-99999, inplace = True)\n",
    "test6[\"12MonthCluster\"].fillna(-99999, inplace = True)\n",
    "test6[\"3MonthUsageCluster\"].fillna(-99999, inplace = True)\n",
    "test6[\"OpportunityCluster\"].fillna(-99999, inplace = True)\n",
    "test6[\"LiftCluster\"].fillna(-99999, inplace = True)\n",
    "test6[\"Shipped Quantity\"].fillna(-99999, inplace = True)\n",
    "test6[\"Sales Amount\"].fillna(-99999, inplace = True)"
   ]
  },
  {
   "cell_type": "code",
   "execution_count": 109,
   "metadata": {},
   "outputs": [],
   "source": [
    "stage1_pass = test6[test6['duplication']=='PASS']\n",
    "stage1_fail = test6[test6['duplication']=='FAIL']"
   ]
  },
  {
   "cell_type": "code",
   "execution_count": 110,
   "metadata": {},
   "outputs": [],
   "source": [
    "stage2_pass = stage1_pass[stage1_pass['item_suspended'] == 'PASS']\n",
    "stage2_fail = stage1_pass[stage1_pass['item_suspended'] == 'FAIL']"
   ]
  },
  {
   "cell_type": "code",
   "execution_count": 111,
   "metadata": {},
   "outputs": [],
   "source": [
    "stage3_pass = stage2_pass[stage2_pass['cust_suspended'] == 'PASS']\n",
    "stage3_fail = stage2_pass[stage2_pass['cust_suspended'] == 'FAIL']"
   ]
  },
  {
   "cell_type": "code",
   "execution_count": 112,
   "metadata": {},
   "outputs": [],
   "source": [
    "stage4_pass = stage3_pass[stage3_pass['presented'] == 'PASS']\n",
    "stage4_fail = stage3_pass[stage3_pass['presented'] == 'FAIL']"
   ]
  },
  {
   "cell_type": "code",
   "execution_count": 113,
   "metadata": {},
   "outputs": [],
   "source": [
    "stage5_pass = stage4_pass[stage4_pass['Sales Amount'] > -99999]\n",
    "stage5_fail = stage4_pass[stage4_pass['Sales Amount'] == -99999]"
   ]
  },
  {
   "cell_type": "code",
   "execution_count": 114,
   "metadata": {},
   "outputs": [],
   "source": [
    "stage6_pass = stage5_pass[stage5_pass['Revenue'] > -99999]\n",
    "stage6_fail = stage5_pass[stage5_pass['Revenue'] == -99999]"
   ]
  },
  {
   "cell_type": "code",
   "execution_count": 115,
   "metadata": {},
   "outputs": [],
   "source": [
    "stage6_fail_list = list(stage6_fail['CustItem'])"
   ]
  },
  {
   "cell_type": "code",
   "execution_count": 116,
   "metadata": {},
   "outputs": [],
   "source": [
    "checking = fact_sales.loc[fact_sales['CustItem'].isin(stage6_fail_list)]"
   ]
  },
  {
   "cell_type": "code",
   "execution_count": 117,
   "metadata": {},
   "outputs": [
    {
     "data": {
      "text/plain": [
       "(1227, 3)"
      ]
     },
     "execution_count": 117,
     "metadata": {},
     "output_type": "execute_result"
    }
   ],
   "source": [
    "checking.shape"
   ]
  },
  {
   "cell_type": "code",
   "execution_count": 120,
   "metadata": {},
   "outputs": [],
   "source": [
    "stage6_fail = stage6_fail.sort_values(by='CustItem',ascending=True)"
   ]
  },
  {
   "cell_type": "code",
   "execution_count": null,
   "metadata": {},
   "outputs": [],
   "source": [
    "#count of combination and dollar value "
   ]
  },
  {
   "cell_type": "code",
   "execution_count": 125,
   "metadata": {},
   "outputs": [],
   "source": [
    "starting_data_shape = 684557\n",
    "ending_data_shape = 515950\n",
    "\n",
    "# PASS \n",
    "stage1_pass_shape = 671647\n",
    "stage2_pass_shape = 669980\n",
    "stage3_pass_shape = 667056\n",
    "stage4_pass_shape = 603750\n",
    "stage5_pass_shape = 517177\n",
    "stage6_pass_shape = 515950\n",
    "\n",
    "# FAIL\n",
    "stage1_fail_shape = 12910\n",
    "stage2_fail_shape = 1667\n",
    "stage3_fail_shape = 2924\n",
    "stage4_fail_shape = 63306\n",
    "stage5_fail_shape = 86573\n",
    "stage6_fail_shape = 1227"
   ]
  },
  {
   "cell_type": "code",
   "execution_count": 230,
   "metadata": {},
   "outputs": [
    {
     "name": "stdout",
     "output_type": "stream",
     "text": [
      "Starting Data: 684557.\n",
      "Dropped Duplicates: 671647.\n"
     ]
    }
   ],
   "source": [
    "print(f'Starting Data: {staging_shape}.')\n",
    "print(f'Dropped Duplicates: {test_no_dups_shape}.')"
   ]
  },
  {
   "cell_type": "code",
   "execution_count": 238,
   "metadata": {},
   "outputs": [
    {
     "name": "stdout",
     "output_type": "stream",
     "text": [
      "Starting Data: 684557.\n",
      "Number of Duplicates: 12910.\n"
     ]
    }
   ],
   "source": [
    "print(f'Starting Data: {staging_shape}.')\n",
    "print(f'Number of Duplicates: {test_dups_shape}.')"
   ]
  }
 ],
 "metadata": {
  "kernelspec": {
   "display_name": "Python 3.9.12 ('envoy')",
   "language": "python",
   "name": "python3"
  },
  "language_info": {
   "codemirror_mode": {
    "name": "ipython",
    "version": 3
   },
   "file_extension": ".py",
   "mimetype": "text/x-python",
   "name": "python",
   "nbconvert_exporter": "python",
   "pygments_lexer": "ipython3",
   "version": "3.9.12"
  },
  "orig_nbformat": 4,
  "vscode": {
   "interpreter": {
    "hash": "da13c8beb073c1fc9aeef0f0e51a60529665bdb81be2f1281c8a14dd05eacd66"
   }
  }
 },
 "nbformat": 4,
 "nbformat_minor": 2
}
