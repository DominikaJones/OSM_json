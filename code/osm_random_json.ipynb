{
 "cells": [
  {
   "cell_type": "code",
   "execution_count": 160,
   "metadata": {},
   "outputs": [],
   "source": [
    "import requests\n",
    "import pandas as pd\n",
    "import numpy as np\n",
    "import json\n",
    "import csv\n",
    "import random\n",
    "from requests.exceptions import HTTPError"
   ]
  },
  {
   "cell_type": "code",
   "execution_count": 161,
   "metadata": {},
   "outputs": [],
   "source": [
    "df = pd.read_csv('../data/random_input.csv')"
   ]
  },
  {
   "cell_type": "code",
   "execution_count": 162,
   "metadata": {},
   "outputs": [],
   "source": [
    "### Convert df into a record array where the row values (city and state) are tuples. \n",
    "records = df.to_records(index=False)\n",
    "### Convert the record arrays into a list.\n",
    "result = list(records)"
   ]
  },
  {
   "cell_type": "code",
   "execution_count": 172,
   "metadata": {},
   "outputs": [
    {
     "name": "stdout",
     "output_type": "stream",
     "text": [
      "Your random selection: snow lake shores, mississippi\n"
     ]
    }
   ],
   "source": [
    "### Generate a random sample from the result list.\n",
    "### Extract the state and city from the random sample.\n",
    "\n",
    "random = (np.random.choice(result))\n",
    "state = random[1].lower()\n",
    "city = random[0].lower()\n",
    "\n",
    "### Base url.\n",
    "url = f\"https://nominatim.openstreetmap.org/search?format=json&state={state}&city={city}\"\n",
    "\n",
    "\n",
    "def im_feeling_lucky(url):\n",
    "    response = requests.get(url)\n",
    "    try:\n",
    "        response.raise_for_status()\n",
    "    except requests.exceptions.HTTPError as e:\n",
    "        ### Request code was not == 200\n",
    "        print(\"Error: \" + str(e))  \n",
    "    ### If response ok then we parse the json data, convert it to a df and save it to the output folder as a csv file.\n",
    "    json_data= response.json()\n",
    "    osm_df = pd.DataFrame(json_data)\n",
    "    osm_df.to_csv('../output/osm_{}_{}.csv'.format(city,state), index=False)\n",
    "    \n",
    "    ### Print the city and state the random sample generated. \n",
    "    print(\"Your random selection: {}, {}\".format(city, state))\n",
    "    \n",
    "im_feeling_lucky(url)\n"
   ]
  },
  {
   "cell_type": "code",
   "execution_count": null,
   "metadata": {},
   "outputs": [],
   "source": []
  }
 ],
 "metadata": {
  "kernelspec": {
   "display_name": "Python 3",
   "language": "python",
   "name": "python3"
  },
  "language_info": {
   "codemirror_mode": {
    "name": "ipython",
    "version": 3
   },
   "file_extension": ".py",
   "mimetype": "text/x-python",
   "name": "python",
   "nbconvert_exporter": "python",
   "pygments_lexer": "ipython3",
   "version": "3.8.3"
  }
 },
 "nbformat": 4,
 "nbformat_minor": 4
}
