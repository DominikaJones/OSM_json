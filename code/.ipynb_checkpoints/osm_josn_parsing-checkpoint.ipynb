{
 "cells": [
  {
   "cell_type": "code",
   "execution_count": 1,
   "metadata": {},
   "outputs": [],
   "source": [
    "import requests\n",
    "import pandas as pd\n",
    "import numpy as np\n",
    "import json\n",
    "import csv\n",
    "from requests.exceptions import HTTPError"
   ]
  },
  {
   "cell_type": "code",
   "execution_count": 39,
   "metadata": {},
   "outputs": [
    {
     "name": "stdin",
     "output_type": "stream",
     "text": [
      "Enter State wisconsin\n",
      "Enter City madison\n"
     ]
    }
   ],
   "source": [
    "### Aproach A\n",
    "\n",
    "state = input('Enter State').lower()\n",
    "city = input('Enter City').lower()\n",
    "\n",
    "### Base url \n",
    "url = f\"https://nominatim.openstreetmap.org/search?format=json&state={state}&city={city}\"\n",
    "\n",
    "def parse_osm_request(url):\n",
    "    response = requests.get(url)\n",
    "     ### Checks if response ok and handles status code error.\n",
    "    try:\n",
    "        response.raise_for_status()\n",
    "    except requests.exceptions.HTTPError as e:\n",
    "        ### Request code not == 200\n",
    "        print(\"Error: \" + str(e))  \n",
    "    ### If response ok then we parse the data.\n",
    "    json_data= response.json()\n",
    "    json_dict= json_data[0]\n",
    "    display_name=json_dict['display_name']\n",
    "    \n",
    "    ### Validate input \n",
    "    if state in display_name.lower():\n",
    "        pass \n",
    "    else:\n",
    "        print(\"Invalid State Input\")       \n",
    "    if city in display_name.lower():\n",
    "        pass \n",
    "    else:\n",
    "        print(\"Invalid City Input\")\n",
    "\n",
    "    ### Converting the json data to a dataframe and saving it to 'output' folder as a csv file \n",
    "    osm_df = pd.DataFrame(json_data)\n",
    "    osm_df.to_csv('../output/osm_{}_{}.csv'.format(state,city), index=False)\n",
    "    \n",
    "parse_osm_request(url)"
   ]
  },
  {
   "cell_type": "code",
   "execution_count": 3,
   "metadata": {},
   "outputs": [
    {
     "name": "stdin",
     "output_type": "stream",
     "text": [
      "Enter City Atlanta\n",
      "Enter State Georgia\n"
     ]
    },
    {
     "name": "stdout",
     "output_type": "stream",
     "text": [
      "Atlanta, Fulton County, Georgia, United States\n"
     ]
    }
   ],
   "source": [
    "### Aproach B\n",
    "\n",
    "city = input('Enter City').lower()\n",
    "state = input('Enter State').lower()\n",
    "\n",
    "### Base url \n",
    "url = f\"https://nominatim.openstreetmap.org/search?format=json&state={state}&city={city}\"\n",
    "\n",
    "def parse_osm_request_B(url):\n",
    "    response = requests.get(url)\n",
    "     ### Checks if response ok and handles status code error.\n",
    "    try:\n",
    "        response.raise_for_status()\n",
    "    except requests.exceptions.HTTPError as e:\n",
    "        ### Request code not == 200\n",
    "        print(\"Error: \" + str(e))  \n",
    "    ### If response ok then we parse the data.\n",
    "    json_data= response.json()\n",
    "    json_dict= json_data[0]\n",
    "    display_name=json_dict['display_name']\n",
    "    print(display_name)\n",
    "    \n",
    "    ## Validate input data\n",
    "    if \"United States\".lower() in display_name.lower():\n",
    "        if state in display_name.lower():    \n",
    "            if city in display_name.lower():\n",
    "                 ### Converting the json data to a dataframe and saving it to 'output' folder as a csv file \n",
    "                    osm_df = pd.DataFrame(json_data)\n",
    "                    osm_df.to_csv('../output/osm_{}_{}.csv'.format(state,city), index=False)              \n",
    "    else:\n",
    "        print(\"Invalid Input\")\n",
    "\n",
    "\n",
    "parse_osm_request_B(url)"
   ]
  },
  {
   "cell_type": "code",
   "execution_count": null,
   "metadata": {},
   "outputs": [],
   "source": []
  }
 ],
 "metadata": {
  "kernelspec": {
   "display_name": "Python 3",
   "language": "python",
   "name": "python3"
  },
  "language_info": {
   "codemirror_mode": {
    "name": "ipython",
    "version": 3
   },
   "file_extension": ".py",
   "mimetype": "text/x-python",
   "name": "python",
   "nbconvert_exporter": "python",
   "pygments_lexer": "ipython3",
   "version": "3.8.3"
  }
 },
 "nbformat": 4,
 "nbformat_minor": 4
}
